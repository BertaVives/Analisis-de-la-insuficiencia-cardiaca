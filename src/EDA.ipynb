{
 "cells": [
  {
   "cell_type": "code",
   "execution_count": 2,
   "metadata": {},
   "outputs": [],
   "source": [
    "import pandas as pd\n",
    "import seaborn as sns\n",
    "import numpy as np\n",
    "import matplotlib.pyplot as plt"
   ]
  },
  {
   "cell_type": "markdown",
   "metadata": {},
   "source": [
    "## Obtención y limpieza de los datos"
   ]
  },
  {
   "cell_type": "markdown",
   "metadata": {},
   "source": [
    "### Importación de los datos"
   ]
  },
  {
   "cell_type": "code",
   "execution_count": 3,
   "metadata": {},
   "outputs": [],
   "source": [
    "# Importamos los datos a un DataFrame\n",
    "file = './data/bertavivesm.20221129144401885.data.csv'\n",
    "df = pd.read_csv(file, delimiter=';', low_memory=False)"
   ]
  },
  {
   "cell_type": "code",
   "execution_count": 4,
   "metadata": {},
   "outputs": [
    {
     "data": {
      "text/html": [
       "<div>\n",
       "<style scoped>\n",
       "    .dataframe tbody tr th:only-of-type {\n",
       "        vertical-align: middle;\n",
       "    }\n",
       "\n",
       "    .dataframe tbody tr th {\n",
       "        vertical-align: top;\n",
       "    }\n",
       "\n",
       "    .dataframe thead th {\n",
       "        text-align: right;\n",
       "    }\n",
       "</style>\n",
       "<table border=\"1\" class=\"dataframe\">\n",
       "  <thead>\n",
       "    <tr style=\"text-align: right;\">\n",
       "      <th></th>\n",
       "      <th>#time</th>\n",
       "      <th>R1_WNAC/WdSpd.Mean</th>\n",
       "      <th>R1_WNAC/WdSpd.Stddev</th>\n",
       "      <th>R1_WNAC/WdSpd.Min</th>\n",
       "      <th>R1_WNAC/WdSpd.Max</th>\n",
       "      <th>R1_WNAC/WdSpd.NVal</th>\n",
       "      <th>R1_WNAC/WdSpd.Flag</th>\n",
       "      <th>R1_WNAC/WdSpd.Detailed_Flag</th>\n",
       "      <th>R1_WNAC/WdSpd.A4</th>\n",
       "      <th>R1_WNAC/WdSpd.A3</th>\n",
       "      <th>...</th>\n",
       "      <th>R1_WTRF/TrfGriPf.Min</th>\n",
       "      <th>R1_WTRF/TrfGriPf.Max</th>\n",
       "      <th>R1_WTRF/TrfGriPf.NVal</th>\n",
       "      <th>R1_WTRF/TrfGriPf.Flag</th>\n",
       "      <th>R1_WTRF/TrfGriPf.Detailed_Flag</th>\n",
       "      <th>R1_WTRF/TrfGriPf.A4</th>\n",
       "      <th>R1_WTRF/TrfGriPf.A3</th>\n",
       "      <th>R1_WTRF/TrfGriPf.A2</th>\n",
       "      <th>R1_WTRF/TrfGriPf.A1</th>\n",
       "      <th>R1_WTRF/TrfGriPf.A0</th>\n",
       "    </tr>\n",
       "  </thead>\n",
       "  <tbody>\n",
       "    <tr>\n",
       "      <th>0</th>\n",
       "      <td>2012-11-20 00:00:00</td>\n",
       "      <td>14.90</td>\n",
       "      <td>nan</td>\n",
       "      <td>14.9</td>\n",
       "      <td>14.9</td>\n",
       "      <td>0</td>\n",
       "      <td>0</td>\n",
       "      <td>0</td>\n",
       "      <td>0.0</td>\n",
       "      <td>0.0</td>\n",
       "      <td>...</td>\n",
       "      <td>-0.9946</td>\n",
       "      <td>-0.9946</td>\n",
       "      <td>0</td>\n",
       "      <td>0</td>\n",
       "      <td>0</td>\n",
       "      <td>0.0</td>\n",
       "      <td>0.0</td>\n",
       "      <td>0.0</td>\n",
       "      <td>1.0</td>\n",
       "      <td>0.0</td>\n",
       "    </tr>\n",
       "    <tr>\n",
       "      <th>1</th>\n",
       "      <td>2012-11-20 00:01:00</td>\n",
       "      <td>14.90</td>\n",
       "      <td>nan</td>\n",
       "      <td>14.9</td>\n",
       "      <td>14.9</td>\n",
       "      <td>0</td>\n",
       "      <td>0</td>\n",
       "      <td>0</td>\n",
       "      <td>0.0</td>\n",
       "      <td>0.0</td>\n",
       "      <td>...</td>\n",
       "      <td>-0.9946</td>\n",
       "      <td>-0.9946</td>\n",
       "      <td>0</td>\n",
       "      <td>0</td>\n",
       "      <td>0</td>\n",
       "      <td>0.0</td>\n",
       "      <td>0.0</td>\n",
       "      <td>0.0</td>\n",
       "      <td>1.0</td>\n",
       "      <td>0.0</td>\n",
       "    </tr>\n",
       "    <tr>\n",
       "      <th>2</th>\n",
       "      <td>2012-11-20 00:02:00</td>\n",
       "      <td>14.70</td>\n",
       "      <td>nan</td>\n",
       "      <td>14.0</td>\n",
       "      <td>14.9</td>\n",
       "      <td>0</td>\n",
       "      <td>0</td>\n",
       "      <td>0</td>\n",
       "      <td>0.0</td>\n",
       "      <td>0.0</td>\n",
       "      <td>...</td>\n",
       "      <td>-0.9946</td>\n",
       "      <td>-0.9932</td>\n",
       "      <td>0</td>\n",
       "      <td>0</td>\n",
       "      <td>0</td>\n",
       "      <td>0.0</td>\n",
       "      <td>0.0</td>\n",
       "      <td>0.0</td>\n",
       "      <td>1.0</td>\n",
       "      <td>0.0</td>\n",
       "    </tr>\n",
       "    <tr>\n",
       "      <th>3</th>\n",
       "      <td>2012-11-20 00:03:00</td>\n",
       "      <td>14.30</td>\n",
       "      <td>nan</td>\n",
       "      <td>13.0</td>\n",
       "      <td>15.6</td>\n",
       "      <td>0</td>\n",
       "      <td>0</td>\n",
       "      <td>0</td>\n",
       "      <td>0.0</td>\n",
       "      <td>0.0</td>\n",
       "      <td>...</td>\n",
       "      <td>-0.9973</td>\n",
       "      <td>-0.9932</td>\n",
       "      <td>0</td>\n",
       "      <td>0</td>\n",
       "      <td>0</td>\n",
       "      <td>0.0</td>\n",
       "      <td>0.0</td>\n",
       "      <td>0.0</td>\n",
       "      <td>1.0</td>\n",
       "      <td>0.0</td>\n",
       "    </tr>\n",
       "    <tr>\n",
       "      <th>4</th>\n",
       "      <td>2012-11-20 00:04:00</td>\n",
       "      <td>13.45</td>\n",
       "      <td>nan</td>\n",
       "      <td>12.3</td>\n",
       "      <td>13.8</td>\n",
       "      <td>0</td>\n",
       "      <td>0</td>\n",
       "      <td>0</td>\n",
       "      <td>0.0</td>\n",
       "      <td>0.0</td>\n",
       "      <td>...</td>\n",
       "      <td>-0.9971</td>\n",
       "      <td>-0.9936</td>\n",
       "      <td>0</td>\n",
       "      <td>0</td>\n",
       "      <td>0</td>\n",
       "      <td>0.0</td>\n",
       "      <td>0.0</td>\n",
       "      <td>0.0</td>\n",
       "      <td>1.0</td>\n",
       "      <td>0.0</td>\n",
       "    </tr>\n",
       "    <tr>\n",
       "      <th>...</th>\n",
       "      <td>...</td>\n",
       "      <td>...</td>\n",
       "      <td>...</td>\n",
       "      <td>...</td>\n",
       "      <td>...</td>\n",
       "      <td>...</td>\n",
       "      <td>...</td>\n",
       "      <td>...</td>\n",
       "      <td>...</td>\n",
       "      <td>...</td>\n",
       "      <td>...</td>\n",
       "      <td>...</td>\n",
       "      <td>...</td>\n",
       "      <td>...</td>\n",
       "      <td>...</td>\n",
       "      <td>...</td>\n",
       "      <td>...</td>\n",
       "      <td>...</td>\n",
       "      <td>...</td>\n",
       "      <td>...</td>\n",
       "      <td>...</td>\n",
       "    </tr>\n",
       "    <tr>\n",
       "      <th>5230753</th>\n",
       "      <td>2017-11-20 23:55:00</td>\n",
       "      <td>2.95</td>\n",
       "      <td>nan</td>\n",
       "      <td>2.5</td>\n",
       "      <td>3.0</td>\n",
       "      <td>0</td>\n",
       "      <td>0</td>\n",
       "      <td>0</td>\n",
       "      <td>0.0</td>\n",
       "      <td>0.0</td>\n",
       "      <td>...</td>\n",
       "      <td>0.3216</td>\n",
       "      <td>0.3995</td>\n",
       "      <td>0</td>\n",
       "      <td>0</td>\n",
       "      <td>0</td>\n",
       "      <td>0.0</td>\n",
       "      <td>0.0</td>\n",
       "      <td>0.0</td>\n",
       "      <td>1.0</td>\n",
       "      <td>0.0</td>\n",
       "    </tr>\n",
       "    <tr>\n",
       "      <th>5230754</th>\n",
       "      <td>2017-11-20 23:56:00</td>\n",
       "      <td>2.45</td>\n",
       "      <td>nan</td>\n",
       "      <td>1.8</td>\n",
       "      <td>3.3</td>\n",
       "      <td>0</td>\n",
       "      <td>0</td>\n",
       "      <td>0</td>\n",
       "      <td>0.0</td>\n",
       "      <td>0.0</td>\n",
       "      <td>...</td>\n",
       "      <td>0.3216</td>\n",
       "      <td>0.6023</td>\n",
       "      <td>0</td>\n",
       "      <td>0</td>\n",
       "      <td>0</td>\n",
       "      <td>0.0</td>\n",
       "      <td>0.0</td>\n",
       "      <td>0.0</td>\n",
       "      <td>1.0</td>\n",
       "      <td>0.0</td>\n",
       "    </tr>\n",
       "    <tr>\n",
       "      <th>5230755</th>\n",
       "      <td>2017-11-20 23:57:00</td>\n",
       "      <td>1.80</td>\n",
       "      <td>nan</td>\n",
       "      <td>1.8</td>\n",
       "      <td>1.8</td>\n",
       "      <td>0</td>\n",
       "      <td>0</td>\n",
       "      <td>0</td>\n",
       "      <td>0.0</td>\n",
       "      <td>0.0</td>\n",
       "      <td>...</td>\n",
       "      <td>0.6023</td>\n",
       "      <td>0.6023</td>\n",
       "      <td>0</td>\n",
       "      <td>0</td>\n",
       "      <td>0</td>\n",
       "      <td>0.0</td>\n",
       "      <td>0.0</td>\n",
       "      <td>0.0</td>\n",
       "      <td>1.0</td>\n",
       "      <td>0.0</td>\n",
       "    </tr>\n",
       "    <tr>\n",
       "      <th>5230756</th>\n",
       "      <td>2017-11-20 23:58:00</td>\n",
       "      <td>2.70</td>\n",
       "      <td>nan</td>\n",
       "      <td>1.8</td>\n",
       "      <td>3.3</td>\n",
       "      <td>0</td>\n",
       "      <td>0</td>\n",
       "      <td>0</td>\n",
       "      <td>0.0</td>\n",
       "      <td>0.0</td>\n",
       "      <td>...</td>\n",
       "      <td>0.2672</td>\n",
       "      <td>0.6023</td>\n",
       "      <td>0</td>\n",
       "      <td>0</td>\n",
       "      <td>0</td>\n",
       "      <td>0.0</td>\n",
       "      <td>0.0</td>\n",
       "      <td>0.0</td>\n",
       "      <td>1.0</td>\n",
       "      <td>0.0</td>\n",
       "    </tr>\n",
       "    <tr>\n",
       "      <th>5230757</th>\n",
       "      <td>2017-11-20 23:59:00</td>\n",
       "      <td>3.05</td>\n",
       "      <td>nan</td>\n",
       "      <td>2.8</td>\n",
       "      <td>3.3</td>\n",
       "      <td>0</td>\n",
       "      <td>0</td>\n",
       "      <td>0</td>\n",
       "      <td>0.0</td>\n",
       "      <td>0.0</td>\n",
       "      <td>...</td>\n",
       "      <td>0.2039</td>\n",
       "      <td>0.3942</td>\n",
       "      <td>0</td>\n",
       "      <td>0</td>\n",
       "      <td>0</td>\n",
       "      <td>0.0</td>\n",
       "      <td>0.0</td>\n",
       "      <td>0.0</td>\n",
       "      <td>1.0</td>\n",
       "      <td>0.0</td>\n",
       "    </tr>\n",
       "  </tbody>\n",
       "</table>\n",
       "<p>5230758 rows × 61 columns</p>\n",
       "</div>"
      ],
      "text/plain": [
       "                       #time   R1_WNAC/WdSpd.Mean  R1_WNAC/WdSpd.Stddev  \\\n",
       "0        2012-11-20 00:00:00                14.90                   nan   \n",
       "1        2012-11-20 00:01:00                14.90                   nan   \n",
       "2        2012-11-20 00:02:00                14.70                   nan   \n",
       "3        2012-11-20 00:03:00                14.30                   nan   \n",
       "4        2012-11-20 00:04:00                13.45                   nan   \n",
       "...                      ...                  ...                   ...   \n",
       "5230753  2017-11-20 23:55:00                 2.95                   nan   \n",
       "5230754  2017-11-20 23:56:00                 2.45                   nan   \n",
       "5230755  2017-11-20 23:57:00                 1.80                   nan   \n",
       "5230756  2017-11-20 23:58:00                 2.70                   nan   \n",
       "5230757  2017-11-20 23:59:00                 3.05                   nan   \n",
       "\n",
       "          R1_WNAC/WdSpd.Min   R1_WNAC/WdSpd.Max   R1_WNAC/WdSpd.NVal  \\\n",
       "0                      14.9                14.9                    0   \n",
       "1                      14.9                14.9                    0   \n",
       "2                      14.0                14.9                    0   \n",
       "3                      13.0                15.6                    0   \n",
       "4                      12.3                13.8                    0   \n",
       "...                     ...                 ...                  ...   \n",
       "5230753                 2.5                 3.0                    0   \n",
       "5230754                 1.8                 3.3                    0   \n",
       "5230755                 1.8                 1.8                    0   \n",
       "5230756                 1.8                 3.3                    0   \n",
       "5230757                 2.8                 3.3                    0   \n",
       "\n",
       "          R1_WNAC/WdSpd.Flag   R1_WNAC/WdSpd.Detailed_Flag   R1_WNAC/WdSpd.A4  \\\n",
       "0                          0                             0                0.0   \n",
       "1                          0                             0                0.0   \n",
       "2                          0                             0                0.0   \n",
       "3                          0                             0                0.0   \n",
       "4                          0                             0                0.0   \n",
       "...                      ...                           ...                ...   \n",
       "5230753                    0                             0                0.0   \n",
       "5230754                    0                             0                0.0   \n",
       "5230755                    0                             0                0.0   \n",
       "5230756                    0                             0                0.0   \n",
       "5230757                    0                             0                0.0   \n",
       "\n",
       "          R1_WNAC/WdSpd.A3  ...   R1_WTRF/TrfGriPf.Min   R1_WTRF/TrfGriPf.Max  \\\n",
       "0                      0.0  ...                -0.9946                -0.9946   \n",
       "1                      0.0  ...                -0.9946                -0.9946   \n",
       "2                      0.0  ...                -0.9946                -0.9932   \n",
       "3                      0.0  ...                -0.9973                -0.9932   \n",
       "4                      0.0  ...                -0.9971                -0.9936   \n",
       "...                    ...  ...                    ...                    ...   \n",
       "5230753                0.0  ...                 0.3216                 0.3995   \n",
       "5230754                0.0  ...                 0.3216                 0.6023   \n",
       "5230755                0.0  ...                 0.6023                 0.6023   \n",
       "5230756                0.0  ...                 0.2672                 0.6023   \n",
       "5230757                0.0  ...                 0.2039                 0.3942   \n",
       "\n",
       "          R1_WTRF/TrfGriPf.NVal   R1_WTRF/TrfGriPf.Flag  \\\n",
       "0                             0                       0   \n",
       "1                             0                       0   \n",
       "2                             0                       0   \n",
       "3                             0                       0   \n",
       "4                             0                       0   \n",
       "...                         ...                     ...   \n",
       "5230753                       0                       0   \n",
       "5230754                       0                       0   \n",
       "5230755                       0                       0   \n",
       "5230756                       0                       0   \n",
       "5230757                       0                       0   \n",
       "\n",
       "         R1_WTRF/TrfGriPf.Detailed_Flag   R1_WTRF/TrfGriPf.A4  \\\n",
       "0                                     0                   0.0   \n",
       "1                                     0                   0.0   \n",
       "2                                     0                   0.0   \n",
       "3                                     0                   0.0   \n",
       "4                                     0                   0.0   \n",
       "...                                 ...                   ...   \n",
       "5230753                               0                   0.0   \n",
       "5230754                               0                   0.0   \n",
       "5230755                               0                   0.0   \n",
       "5230756                               0                   0.0   \n",
       "5230757                               0                   0.0   \n",
       "\n",
       "          R1_WTRF/TrfGriPf.A3   R1_WTRF/TrfGriPf.A2   R1_WTRF/TrfGriPf.A1  \\\n",
       "0                         0.0                   0.0                   1.0   \n",
       "1                         0.0                   0.0                   1.0   \n",
       "2                         0.0                   0.0                   1.0   \n",
       "3                         0.0                   0.0                   1.0   \n",
       "4                         0.0                   0.0                   1.0   \n",
       "...                       ...                   ...                   ...   \n",
       "5230753                   0.0                   0.0                   1.0   \n",
       "5230754                   0.0                   0.0                   1.0   \n",
       "5230755                   0.0                   0.0                   1.0   \n",
       "5230756                   0.0                   0.0                   1.0   \n",
       "5230757                   0.0                   0.0                   1.0   \n",
       "\n",
       "          R1_WTRF/TrfGriPf.A0  \n",
       "0                         0.0  \n",
       "1                         0.0  \n",
       "2                         0.0  \n",
       "3                         0.0  \n",
       "4                         0.0  \n",
       "...                       ...  \n",
       "5230753                   0.0  \n",
       "5230754                   0.0  \n",
       "5230755                   0.0  \n",
       "5230756                   0.0  \n",
       "5230757                   0.0  \n",
       "\n",
       "[5230758 rows x 61 columns]"
      ]
     },
     "execution_count": 4,
     "metadata": {},
     "output_type": "execute_result"
    }
   ],
   "source": [
    "df"
   ]
  },
  {
   "cell_type": "markdown",
   "metadata": {},
   "source": [
    "### Limpieza de datos"
   ]
  },
  {
   "cell_type": "code",
   "execution_count": 6,
   "metadata": {},
   "outputs": [],
   "source": [
    "# Seleccionamos las columnas que nos interesan\n",
    "data = df[['#time',' R1_WNAC/WdSpd.Mean',' R1_WNAC/WdDir.Mean',' R1_WTRF/TrfGriW.Mean']]"
   ]
  },
  {
   "cell_type": "code",
   "execution_count": 24,
   "metadata": {},
   "outputs": [],
   "source": [
    "# Column names are changed to make the dataframe more understandable.\n",
    "data.columns = ['time','WindSpeed','WindDirection','Power']"
   ]
  },
  {
   "cell_type": "code",
   "execution_count": 25,
   "metadata": {},
   "outputs": [
    {
     "data": {
      "text/html": [
       "<div>\n",
       "<style scoped>\n",
       "    .dataframe tbody tr th:only-of-type {\n",
       "        vertical-align: middle;\n",
       "    }\n",
       "\n",
       "    .dataframe tbody tr th {\n",
       "        vertical-align: top;\n",
       "    }\n",
       "\n",
       "    .dataframe thead th {\n",
       "        text-align: right;\n",
       "    }\n",
       "</style>\n",
       "<table border=\"1\" class=\"dataframe\">\n",
       "  <thead>\n",
       "    <tr style=\"text-align: right;\">\n",
       "      <th></th>\n",
       "      <th>time</th>\n",
       "      <th>WindSpeed</th>\n",
       "      <th>WindDirection</th>\n",
       "      <th>Power</th>\n",
       "    </tr>\n",
       "  </thead>\n",
       "  <tbody>\n",
       "    <tr>\n",
       "      <th>0</th>\n",
       "      <td>2012-11-20 00:00:00</td>\n",
       "      <td>14.90</td>\n",
       "      <td>201.80</td>\n",
       "      <td>5.166350</td>\n",
       "    </tr>\n",
       "    <tr>\n",
       "      <th>1</th>\n",
       "      <td>2012-11-20 00:01:00</td>\n",
       "      <td>14.90</td>\n",
       "      <td>201.80</td>\n",
       "      <td>5.154180</td>\n",
       "    </tr>\n",
       "    <tr>\n",
       "      <th>2</th>\n",
       "      <td>2012-11-20 00:02:00</td>\n",
       "      <td>14.70</td>\n",
       "      <td>204.10</td>\n",
       "      <td>5.136520</td>\n",
       "    </tr>\n",
       "    <tr>\n",
       "      <th>3</th>\n",
       "      <td>2012-11-20 00:03:00</td>\n",
       "      <td>14.30</td>\n",
       "      <td>208.50</td>\n",
       "      <td>5.021540</td>\n",
       "    </tr>\n",
       "    <tr>\n",
       "      <th>4</th>\n",
       "      <td>2012-11-20 00:04:00</td>\n",
       "      <td>13.45</td>\n",
       "      <td>209.65</td>\n",
       "      <td>5.094510</td>\n",
       "    </tr>\n",
       "    <tr>\n",
       "      <th>...</th>\n",
       "      <td>...</td>\n",
       "      <td>...</td>\n",
       "      <td>...</td>\n",
       "      <td>...</td>\n",
       "    </tr>\n",
       "    <tr>\n",
       "      <th>5230753</th>\n",
       "      <td>2017-11-20 23:55:00</td>\n",
       "      <td>2.95</td>\n",
       "      <td>120.45</td>\n",
       "      <td>-0.063793</td>\n",
       "    </tr>\n",
       "    <tr>\n",
       "      <th>5230754</th>\n",
       "      <td>2017-11-20 23:56:00</td>\n",
       "      <td>2.45</td>\n",
       "      <td>112.95</td>\n",
       "      <td>-0.092756</td>\n",
       "    </tr>\n",
       "    <tr>\n",
       "      <th>5230755</th>\n",
       "      <td>2017-11-20 23:57:00</td>\n",
       "      <td>1.80</td>\n",
       "      <td>107.30</td>\n",
       "      <td>-0.106760</td>\n",
       "    </tr>\n",
       "    <tr>\n",
       "      <th>5230756</th>\n",
       "      <td>2017-11-20 23:58:00</td>\n",
       "      <td>2.70</td>\n",
       "      <td>120.00</td>\n",
       "      <td>-0.076840</td>\n",
       "    </tr>\n",
       "    <tr>\n",
       "      <th>5230757</th>\n",
       "      <td>2017-11-20 23:59:00</td>\n",
       "      <td>3.05</td>\n",
       "      <td>116.70</td>\n",
       "      <td>-0.033351</td>\n",
       "    </tr>\n",
       "  </tbody>\n",
       "</table>\n",
       "<p>5230758 rows × 4 columns</p>\n",
       "</div>"
      ],
      "text/plain": [
       "                        time  WindSpeed  WindDirection     Power\n",
       "0        2012-11-20 00:00:00      14.90         201.80  5.166350\n",
       "1        2012-11-20 00:01:00      14.90         201.80  5.154180\n",
       "2        2012-11-20 00:02:00      14.70         204.10  5.136520\n",
       "3        2012-11-20 00:03:00      14.30         208.50  5.021540\n",
       "4        2012-11-20 00:04:00      13.45         209.65  5.094510\n",
       "...                      ...        ...            ...       ...\n",
       "5230753  2017-11-20 23:55:00       2.95         120.45 -0.063793\n",
       "5230754  2017-11-20 23:56:00       2.45         112.95 -0.092756\n",
       "5230755  2017-11-20 23:57:00       1.80         107.30 -0.106760\n",
       "5230756  2017-11-20 23:58:00       2.70         120.00 -0.076840\n",
       "5230757  2017-11-20 23:59:00       3.05         116.70 -0.033351\n",
       "\n",
       "[5230758 rows x 4 columns]"
      ]
     },
     "execution_count": 25,
     "metadata": {},
     "output_type": "execute_result"
    }
   ],
   "source": [
    "data"
   ]
  },
  {
   "cell_type": "markdown",
   "metadata": {},
   "source": [
    "### Eliminación de outliers"
   ]
  },
  {
   "cell_type": "markdown",
   "metadata": {},
   "source": [
    "## Información basica de los datos"
   ]
  },
  {
   "cell_type": "code",
   "execution_count": 26,
   "metadata": {},
   "outputs": [
    {
     "name": "stdout",
     "output_type": "stream",
     "text": [
      "<class 'pandas.core.frame.DataFrame'>\n",
      "RangeIndex: 5230758 entries, 0 to 5230757\n",
      "Data columns (total 4 columns):\n",
      " #   Column         Dtype  \n",
      "---  ------         -----  \n",
      " 0   time           object \n",
      " 1   WindSpeed      float64\n",
      " 2   WindDirection  float64\n",
      " 3   Power          float64\n",
      "dtypes: float64(3), object(1)\n",
      "memory usage: 159.6+ MB\n"
     ]
    }
   ],
   "source": [
    "data.info()"
   ]
  },
  {
   "cell_type": "code",
   "execution_count": 27,
   "metadata": {},
   "outputs": [
    {
     "data": {
      "text/html": [
       "<div>\n",
       "<style scoped>\n",
       "    .dataframe tbody tr th:only-of-type {\n",
       "        vertical-align: middle;\n",
       "    }\n",
       "\n",
       "    .dataframe tbody tr th {\n",
       "        vertical-align: top;\n",
       "    }\n",
       "\n",
       "    .dataframe thead th {\n",
       "        text-align: right;\n",
       "    }\n",
       "</style>\n",
       "<table border=\"1\" class=\"dataframe\">\n",
       "  <thead>\n",
       "    <tr style=\"text-align: right;\">\n",
       "      <th></th>\n",
       "      <th>WindSpeed</th>\n",
       "      <th>WindDirection</th>\n",
       "      <th>Power</th>\n",
       "    </tr>\n",
       "  </thead>\n",
       "  <tbody>\n",
       "    <tr>\n",
       "      <th>count</th>\n",
       "      <td>5.230758e+06</td>\n",
       "      <td>5.230758e+06</td>\n",
       "      <td>5.230758e+06</td>\n",
       "    </tr>\n",
       "    <tr>\n",
       "      <th>mean</th>\n",
       "      <td>6.635825e+04</td>\n",
       "      <td>5.605512e+04</td>\n",
       "      <td>1.507089e+04</td>\n",
       "    </tr>\n",
       "    <tr>\n",
       "      <th>std</th>\n",
       "      <td>2.488902e+05</td>\n",
       "      <td>2.296364e+05</td>\n",
       "      <td>1.218253e+05</td>\n",
       "    </tr>\n",
       "    <tr>\n",
       "      <th>min</th>\n",
       "      <td>8.000000e-01</td>\n",
       "      <td>0.000000e+00</td>\n",
       "      <td>-1.682530e-01</td>\n",
       "    </tr>\n",
       "    <tr>\n",
       "      <th>25%</th>\n",
       "      <td>5.750000e+00</td>\n",
       "      <td>1.293000e+02</td>\n",
       "      <td>2.820310e-01</td>\n",
       "    </tr>\n",
       "    <tr>\n",
       "      <th>50%</th>\n",
       "      <td>9.000000e+00</td>\n",
       "      <td>2.086500e+02</td>\n",
       "      <td>1.980450e+00</td>\n",
       "    </tr>\n",
       "    <tr>\n",
       "      <th>75%</th>\n",
       "      <td>1.300000e+01</td>\n",
       "      <td>2.698500e+02</td>\n",
       "      <td>5.055020e+00</td>\n",
       "    </tr>\n",
       "    <tr>\n",
       "      <th>max</th>\n",
       "      <td>9.999993e+05</td>\n",
       "      <td>9.999993e+05</td>\n",
       "      <td>9.999993e+05</td>\n",
       "    </tr>\n",
       "  </tbody>\n",
       "</table>\n",
       "</div>"
      ],
      "text/plain": [
       "          WindSpeed  WindDirection         Power\n",
       "count  5.230758e+06   5.230758e+06  5.230758e+06\n",
       "mean   6.635825e+04   5.605512e+04  1.507089e+04\n",
       "std    2.488902e+05   2.296364e+05  1.218253e+05\n",
       "min    8.000000e-01   0.000000e+00 -1.682530e-01\n",
       "25%    5.750000e+00   1.293000e+02  2.820310e-01\n",
       "50%    9.000000e+00   2.086500e+02  1.980450e+00\n",
       "75%    1.300000e+01   2.698500e+02  5.055020e+00\n",
       "max    9.999993e+05   9.999993e+05  9.999993e+05"
      ]
     },
     "execution_count": 27,
     "metadata": {},
     "output_type": "execute_result"
    }
   ],
   "source": [
    "data.describe()"
   ]
  },
  {
   "cell_type": "code",
   "execution_count": 28,
   "metadata": {},
   "outputs": [
    {
     "name": "stderr",
     "output_type": "stream",
     "text": [
      "/var/folders/2l/vvs13szs5gxbhbsk5mznxk800000gn/T/ipykernel_22573/4277230119.py:1: FutureWarning: The default value of numeric_only in DataFrame.corr is deprecated. In a future version, it will default to False. Select only valid columns or specify the value of numeric_only to silence this warning.\n",
      "  sns.heatmap(data.corr(), vmin = -1, vmax = +1, annot = True, cmap = 'coolwarm')\n"
     ]
    },
    {
     "data": {
      "text/plain": [
       "<AxesSubplot: >"
      ]
     },
     "execution_count": 28,
     "metadata": {},
     "output_type": "execute_result"
    },
    {
     "data": {
      "image/png": "[encoded data removed]",
      "text/plain": [
       "<Figure size 640x480 with 2 Axes>"
      ]
     },
     "metadata": {},
     "output_type": "display_data"
    }
   ],
   "source": [
    "sns.heatmap(data.corr(), vmin = -1, vmax = +1, annot = True, cmap = 'coolwarm')"
   ]
  },
  {
   "cell_type": "markdown",
   "metadata": {},
   "source": [
    "## Descripción estadística de los datos\n",
    "\n",
    "Las funciones que se utilizarán para determinar las medidas de tendencia central y variabilidad de cada una de las columnas son las siguientes."
   ]
  },
  {
   "cell_type": "code",
   "execution_count": 17,
   "metadata": {},
   "outputs": [],
   "source": [
    "# MEDIDAS DE TENDENCIA CENTRAL\n",
    "def med_tend_central(valores):\n",
    "    media = np.mean(valores)\n",
    "    mediana = np.median(valores)\n",
    "    print(f'MEDIDAS DE TENCENCIA CENTRAL:\\nMedia = {media}\\nMediana = {mediana}')\n",
    "\n",
    "# MEDIDAS DE VARIABILIDAD\n",
    "def med_var(valores):\n",
    "    desvest = np.std(valores) \n",
    "    percentil25 = np.percentile(valores, 25)\n",
    "    percentil75 = np.percentile(valores, 75)\n",
    "    print(f'MEDIDAS DE VARIABILIDAD:\\nDesviación estándar = {desvest}\\nRango intercuatílico = {percentil75-percentil25}')"
   ]
  },
  {
   "cell_type": "markdown",
   "metadata": {},
   "source": [
    "### Velocidad del viento [m/s]"
   ]
  },
  {
   "cell_type": "code",
   "execution_count": 18,
   "metadata": {},
   "outputs": [
    {
     "name": "stdout",
     "output_type": "stream",
     "text": [
      "MEDIDAS DE TENCENCIA CENTRAL:\n",
      "Media = 66358.25319694524\n",
      "Mediana = 9.0\n",
      "MEDIDAS DE VARIABILIDAD:\n",
      "Desviación estándar = 248890.22109730335\n",
      "Rango intercuatílico = 7.25\n"
     ]
    }
   ],
   "source": [
    "med_tend_central(data.WindSpeed)\n",
    "med_var(data.WindSpeed)"
   ]
  },
  {
   "cell_type": "code",
   "execution_count": 19,
   "metadata": {},
   "outputs": [
    {
     "data": {
      "image/png": "[encoded data removed]",
      "text/plain": [
       "<Figure size 640x480 with 1 Axes>"
      ]
     },
     "metadata": {},
     "output_type": "display_data"
    }
   ],
   "source": [
    "plt.boxplot(data.WindSpeed)\n",
    "plt.show()"
   ]
  },
  {
   "cell_type": "code",
   "execution_count": 23,
   "metadata": {},
   "outputs": [
    {
     "data": {
      "image/png": "[encoded data removed]",
      "text/plain": [
       "<Figure size 640x480 with 1 Axes>"
      ]
     },
     "metadata": {},
     "output_type": "display_data"
    }
   ],
   "source": [
    "plt.hist(data.WindSpeed)\n",
    "plt.show()"
   ]
  },
  {
   "cell_type": "markdown",
   "metadata": {},
   "source": [
    "### Dirección del viento [degº]"
   ]
  },
  {
   "cell_type": "code",
   "execution_count": 30,
   "metadata": {},
   "outputs": [
    {
     "name": "stdout",
     "output_type": "stream",
     "text": [
      "MEDIDAS DE TENCENCIA CENTRAL:\n",
      "Media = 56055.11521265697\n",
      "Mediana = 208.65\n",
      "MEDIDAS DE VARIABILIDAD:\n",
      "Desviación estándar = 229636.38034461814\n",
      "Rango intercuatílico = 140.55\n"
     ]
    }
   ],
   "source": [
    "med_tend_central(data.WindDirection)\n",
    "med_var(data.WindDirection)"
   ]
  },
  {
   "cell_type": "code",
   "execution_count": 32,
   "metadata": {},
   "outputs": [
    {
     "data": {
      "image/png": "[encoded data removed]",
      "text/plain": [
       "<Figure size 640x480 with 1 Axes>"
      ]
     },
     "metadata": {},
     "output_type": "display_data"
    }
   ],
   "source": [
    "plt.boxplot(data.WindDirection)\n",
    "plt.show()"
   ]
  },
  {
   "cell_type": "code",
   "execution_count": 33,
   "metadata": {},
   "outputs": [
    {
     "data": {
      "image/png": "[encoded data removed]",
      "text/plain": [
       "<Figure size 640x480 with 1 Axes>"
      ]
     },
     "metadata": {},
     "output_type": "display_data"
    }
   ],
   "source": [
    "plt.hist(data.WindDirection)\n",
    "plt.show()"
   ]
  },
  {
   "cell_type": "markdown",
   "metadata": {},
   "source": [
    "### Potencia [MW]"
   ]
  },
  {
   "cell_type": "code",
   "execution_count": 34,
   "metadata": {},
   "outputs": [
    {
     "name": "stdout",
     "output_type": "stream",
     "text": [
      "MEDIDAS DE TENCENCIA CENTRAL:\n",
      "Media = 15070.887685161202\n",
      "Mediana = 1.98045\n",
      "MEDIDAS DE VARIABILIDAD:\n",
      "Desviación estándar = 121825.32584630996\n",
      "Rango intercuatílico = 4.772989\n"
     ]
    }
   ],
   "source": [
    "med_tend_central(data.Power)\n",
    "med_var(data.Power)"
   ]
  },
  {
   "cell_type": "code",
   "execution_count": 38,
   "metadata": {},
   "outputs": [
    {
     "data": {
      "image/png": "[encoded data removed]",
      "text/plain": [
       "<Figure size 640x480 with 1 Axes>"
      ]
     },
     "metadata": {},
     "output_type": "display_data"
    }
   ],
   "source": [
    "plt.boxplot(data.Power)\n",
    "plt.show()"
   ]
  },
  {
   "cell_type": "code",
   "execution_count": 37,
   "metadata": {},
   "outputs": [
    {
     "data": {
      "image/png": "[encoded data removed]",
      "text/plain": [
       "<Figure size 640x480 with 1 Axes>"
      ]
     },
     "metadata": {},
     "output_type": "display_data"
    }
   ],
   "source": [
    "plt.hist(data.Power)\n",
    "plt.show()"
   ]
  },
  {
   "cell_type": "markdown",
   "metadata": {},
   "source": [
    "## Análisis bivariado"
   ]
  },
  {
   "cell_type": "markdown",
   "metadata": {},
   "source": [
    "### Velocidad del viento VS Potencia"
   ]
  },
  {
   "cell_type": "code",
   "execution_count": 42,
   "metadata": {},
   "outputs": [
    {
     "data": {
      "text/plain": [
       "<matplotlib.collections.PathCollection at 0x7f80411a5b20>"
      ]
     },
     "execution_count": 42,
     "metadata": {},
     "output_type": "execute_result"
    },
    {
     "data": {
      "image/png": "[encoded data removed]",
      "text/plain": [
       "<Figure size 640x480 with 1 Axes>"
      ]
     },
     "metadata": {},
     "output_type": "display_data"
    }
   ],
   "source": [
    "plt.scatter(data.WindSpeed, data.Power)"
   ]
  }
 ],
 "metadata": {
  "kernelspec": {
   "display_name": "Python 3.9.15 ('DataScience')",
   "language": "python",
   "name": "python3"
  },
  "language_info": {
   "codemirror_mode": {
    "name": "ipython",
    "version": 3
   },
   "file_extension": ".py",
   "mimetype": "text/x-python",
   "name": "python",
   "nbconvert_exporter": "python",
   "pygments_lexer": "ipython3",
   "version": "3.9.15"
  },
  "orig_nbformat": 4,
  "vscode": {
   "interpreter": {
    "hash": "4b5a2aaf94a20ece0551648939ed853b4738d2f77c0cac11f174cba8f59e450c"
   }
  }
 },
 "nbformat": 4,
 "nbformat_minor": 2
}
