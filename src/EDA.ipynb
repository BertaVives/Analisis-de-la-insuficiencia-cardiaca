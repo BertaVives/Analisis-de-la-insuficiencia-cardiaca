{
 "cells": [
  {
   "cell_type": "code",
   "execution_count": 21,
   "metadata": {},
   "outputs": [],
   "source": [
    "import pandas as pd\n",
    "import seaborn as sns\n",
    "import numpy as np\n",
    "import matplotlib.pyplot as plt"
   ]
  },
  {
   "cell_type": "markdown",
   "metadata": {},
   "source": [
    "## Data import and data cleansing"
   ]
  },
  {
   "cell_type": "code",
   "execution_count": 3,
   "metadata": {},
   "outputs": [],
   "source": [
    "# Load the CSV into a DataFrame:\n",
    "file = './data/bertavivesm.20221129144401885.data.csv'\n",
    "df = pd.read_csv(file,delimiter=';')"
   ]
  },
  {
   "cell_type": "code",
   "execution_count": 4,
   "metadata": {},
   "outputs": [],
   "source": [
    "# The columns of interest are selected and a new DataFrame is created\n",
    "data = df[['#time',' R1_WNAC/WdSpd.Mean',' R1_WNAC/WdDir.Mean',' R1_WTRF/TrfGriVAr.Mean',' R1_WTRF/TrfGriW.Mean',' R1_WTRF/TrfGriPf.Mean']]"
   ]
  },
  {
   "cell_type": "code",
   "execution_count": 5,
   "metadata": {},
   "outputs": [],
   "source": [
    "# Column names are changed to make the dataframe more understandable.\n",
    "data.columns = ['time','Wind Speed','Wind Direction','Reactive Power','Active Power','Phase Angle']"
   ]
  },
  {
   "cell_type": "code",
   "execution_count": 6,
   "metadata": {},
   "outputs": [
    {
     "data": {
      "text/html": [
       "<div>\n",
       "<style scoped>\n",
       "    .dataframe tbody tr th:only-of-type {\n",
       "        vertical-align: middle;\n",
       "    }\n",
       "\n",
       "    .dataframe tbody tr th {\n",
       "        vertical-align: top;\n",
       "    }\n",
       "\n",
       "    .dataframe thead th {\n",
       "        text-align: right;\n",
       "    }\n",
       "</style>\n",
       "<table border=\"1\" class=\"dataframe\">\n",
       "  <thead>\n",
       "    <tr style=\"text-align: right;\">\n",
       "      <th></th>\n",
       "      <th>time</th>\n",
       "      <th>Wind Speed</th>\n",
       "      <th>Wind Direction</th>\n",
       "      <th>Reactive Power</th>\n",
       "      <th>Active Power</th>\n",
       "      <th>Phase Angle</th>\n",
       "    </tr>\n",
       "  </thead>\n",
       "  <tbody>\n",
       "    <tr>\n",
       "      <th>0</th>\n",
       "      <td>2012-11-20 00:00:00</td>\n",
       "      <td>14.90</td>\n",
       "      <td>201.80</td>\n",
       "      <td>-0.666463</td>\n",
       "      <td>5.166350</td>\n",
       "      <td>-0.99460</td>\n",
       "    </tr>\n",
       "    <tr>\n",
       "      <th>1</th>\n",
       "      <td>2012-11-20 00:01:00</td>\n",
       "      <td>14.90</td>\n",
       "      <td>201.80</td>\n",
       "      <td>-0.625202</td>\n",
       "      <td>5.154180</td>\n",
       "      <td>-0.99460</td>\n",
       "    </tr>\n",
       "    <tr>\n",
       "      <th>2</th>\n",
       "      <td>2012-11-20 00:02:00</td>\n",
       "      <td>14.70</td>\n",
       "      <td>204.10</td>\n",
       "      <td>-0.658773</td>\n",
       "      <td>5.136520</td>\n",
       "      <td>-0.99450</td>\n",
       "    </tr>\n",
       "    <tr>\n",
       "      <th>3</th>\n",
       "      <td>2012-11-20 00:03:00</td>\n",
       "      <td>14.30</td>\n",
       "      <td>208.50</td>\n",
       "      <td>-0.628620</td>\n",
       "      <td>5.021540</td>\n",
       "      <td>-0.99675</td>\n",
       "    </tr>\n",
       "    <tr>\n",
       "      <th>4</th>\n",
       "      <td>2012-11-20 00:04:00</td>\n",
       "      <td>13.45</td>\n",
       "      <td>209.65</td>\n",
       "      <td>-0.647664</td>\n",
       "      <td>5.094510</td>\n",
       "      <td>-0.99610</td>\n",
       "    </tr>\n",
       "    <tr>\n",
       "      <th>...</th>\n",
       "      <td>...</td>\n",
       "      <td>...</td>\n",
       "      <td>...</td>\n",
       "      <td>...</td>\n",
       "      <td>...</td>\n",
       "      <td>...</td>\n",
       "    </tr>\n",
       "    <tr>\n",
       "      <th>5230753</th>\n",
       "      <td>2017-11-20 23:55:00</td>\n",
       "      <td>2.95</td>\n",
       "      <td>120.45</td>\n",
       "      <td>0.031556</td>\n",
       "      <td>-0.063793</td>\n",
       "      <td>0.36055</td>\n",
       "    </tr>\n",
       "    <tr>\n",
       "      <th>5230754</th>\n",
       "      <td>2017-11-20 23:56:00</td>\n",
       "      <td>2.45</td>\n",
       "      <td>112.95</td>\n",
       "      <td>0.031556</td>\n",
       "      <td>-0.092756</td>\n",
       "      <td>0.39160</td>\n",
       "    </tr>\n",
       "    <tr>\n",
       "      <th>5230755</th>\n",
       "      <td>2017-11-20 23:57:00</td>\n",
       "      <td>1.80</td>\n",
       "      <td>107.30</td>\n",
       "      <td>0.044557</td>\n",
       "      <td>-0.106760</td>\n",
       "      <td>0.60230</td>\n",
       "    </tr>\n",
       "    <tr>\n",
       "      <th>5230756</th>\n",
       "      <td>2017-11-20 23:58:00</td>\n",
       "      <td>2.70</td>\n",
       "      <td>120.00</td>\n",
       "      <td>0.024293</td>\n",
       "      <td>-0.076840</td>\n",
       "      <td>0.29820</td>\n",
       "    </tr>\n",
       "    <tr>\n",
       "      <th>5230757</th>\n",
       "      <td>2017-11-20 23:59:00</td>\n",
       "      <td>3.05</td>\n",
       "      <td>116.70</td>\n",
       "      <td>0.014222</td>\n",
       "      <td>-0.033351</td>\n",
       "      <td>0.25405</td>\n",
       "    </tr>\n",
       "  </tbody>\n",
       "</table>\n",
       "<p>5230758 rows × 6 columns</p>\n",
       "</div>"
      ],
      "text/plain": [
       "                        time  Wind Speed  Wind Direction  Reactive Power  \\\n",
       "0        2012-11-20 00:00:00       14.90          201.80       -0.666463   \n",
       "1        2012-11-20 00:01:00       14.90          201.80       -0.625202   \n",
       "2        2012-11-20 00:02:00       14.70          204.10       -0.658773   \n",
       "3        2012-11-20 00:03:00       14.30          208.50       -0.628620   \n",
       "4        2012-11-20 00:04:00       13.45          209.65       -0.647664   \n",
       "...                      ...         ...             ...             ...   \n",
       "5230753  2017-11-20 23:55:00        2.95          120.45        0.031556   \n",
       "5230754  2017-11-20 23:56:00        2.45          112.95        0.031556   \n",
       "5230755  2017-11-20 23:57:00        1.80          107.30        0.044557   \n",
       "5230756  2017-11-20 23:58:00        2.70          120.00        0.024293   \n",
       "5230757  2017-11-20 23:59:00        3.05          116.70        0.014222   \n",
       "\n",
       "         Active Power  Phase Angle  \n",
       "0            5.166350     -0.99460  \n",
       "1            5.154180     -0.99460  \n",
       "2            5.136520     -0.99450  \n",
       "3            5.021540     -0.99675  \n",
       "4            5.094510     -0.99610  \n",
       "...               ...          ...  \n",
       "5230753     -0.063793      0.36055  \n",
       "5230754     -0.092756      0.39160  \n",
       "5230755     -0.106760      0.60230  \n",
       "5230756     -0.076840      0.29820  \n",
       "5230757     -0.033351      0.25405  \n",
       "\n",
       "[5230758 rows x 6 columns]"
      ]
     },
     "execution_count": 6,
     "metadata": {},
     "output_type": "execute_result"
    }
   ],
   "source": [
    "data"
   ]
  },
  {
   "cell_type": "markdown",
   "metadata": {},
   "source": [
    "## Data information"
   ]
  },
  {
   "cell_type": "code",
   "execution_count": 7,
   "metadata": {},
   "outputs": [
    {
     "name": "stdout",
     "output_type": "stream",
     "text": [
      "<class 'pandas.core.frame.DataFrame'>\n",
      "RangeIndex: 5230758 entries, 0 to 5230757\n",
      "Data columns (total 6 columns):\n",
      " #   Column          Dtype  \n",
      "---  ------          -----  \n",
      " 0   time            object \n",
      " 1   Wind Speed      float64\n",
      " 2   Wind Direction  float64\n",
      " 3   Reactive Power  float64\n",
      " 4   Active Power    float64\n",
      " 5   Phase Angle     float64\n",
      "dtypes: float64(5), object(1)\n",
      "memory usage: 239.4+ MB\n"
     ]
    }
   ],
   "source": [
    "data.info()"
   ]
  },
  {
   "cell_type": "code",
   "execution_count": 8,
   "metadata": {},
   "outputs": [
    {
     "data": {
      "text/html": [
       "<div>\n",
       "<style scoped>\n",
       "    .dataframe tbody tr th:only-of-type {\n",
       "        vertical-align: middle;\n",
       "    }\n",
       "\n",
       "    .dataframe tbody tr th {\n",
       "        vertical-align: top;\n",
       "    }\n",
       "\n",
       "    .dataframe thead th {\n",
       "        text-align: right;\n",
       "    }\n",
       "</style>\n",
       "<table border=\"1\" class=\"dataframe\">\n",
       "  <thead>\n",
       "    <tr style=\"text-align: right;\">\n",
       "      <th></th>\n",
       "      <th>Wind Speed</th>\n",
       "      <th>Wind Direction</th>\n",
       "      <th>Reactive Power</th>\n",
       "      <th>Active Power</th>\n",
       "      <th>Phase Angle</th>\n",
       "    </tr>\n",
       "  </thead>\n",
       "  <tbody>\n",
       "    <tr>\n",
       "      <th>count</th>\n",
       "      <td>5.230758e+06</td>\n",
       "      <td>5.230758e+06</td>\n",
       "      <td>5.230758e+06</td>\n",
       "      <td>5.230758e+06</td>\n",
       "      <td>5.230758e+06</td>\n",
       "    </tr>\n",
       "    <tr>\n",
       "      <th>mean</th>\n",
       "      <td>6.635825e+04</td>\n",
       "      <td>5.605512e+04</td>\n",
       "      <td>1.506902e+04</td>\n",
       "      <td>1.507089e+04</td>\n",
       "      <td>5.083837e+04</td>\n",
       "    </tr>\n",
       "    <tr>\n",
       "      <th>std</th>\n",
       "      <td>2.488902e+05</td>\n",
       "      <td>2.296364e+05</td>\n",
       "      <td>1.218271e+05</td>\n",
       "      <td>1.218253e+05</td>\n",
       "      <td>2.196691e+05</td>\n",
       "    </tr>\n",
       "    <tr>\n",
       "      <th>min</th>\n",
       "      <td>8.000000e-01</td>\n",
       "      <td>0.000000e+00</td>\n",
       "      <td>-1.734180e+00</td>\n",
       "      <td>-1.682530e-01</td>\n",
       "      <td>-1.000000e+00</td>\n",
       "    </tr>\n",
       "    <tr>\n",
       "      <th>25%</th>\n",
       "      <td>5.750000e+00</td>\n",
       "      <td>1.293000e+02</td>\n",
       "      <td>-1.019930e-01</td>\n",
       "      <td>2.820310e-01</td>\n",
       "      <td>-9.999000e-01</td>\n",
       "    </tr>\n",
       "    <tr>\n",
       "      <th>50%</th>\n",
       "      <td>9.000000e+00</td>\n",
       "      <td>2.086500e+02</td>\n",
       "      <td>-1.770020e-03</td>\n",
       "      <td>1.980450e+00</td>\n",
       "      <td>-9.959500e-01</td>\n",
       "    </tr>\n",
       "    <tr>\n",
       "      <th>75%</th>\n",
       "      <td>1.300000e+01</td>\n",
       "      <td>2.698500e+02</td>\n",
       "      <td>1.322670e-01</td>\n",
       "      <td>5.055020e+00</td>\n",
       "      <td>-4.776500e-01</td>\n",
       "    </tr>\n",
       "    <tr>\n",
       "      <th>max</th>\n",
       "      <td>9.999993e+05</td>\n",
       "      <td>9.999993e+05</td>\n",
       "      <td>9.999993e+05</td>\n",
       "      <td>9.999993e+05</td>\n",
       "      <td>9.999993e+05</td>\n",
       "    </tr>\n",
       "  </tbody>\n",
       "</table>\n",
       "</div>"
      ],
      "text/plain": [
       "         Wind Speed  Wind Direction  Reactive Power  Active Power  \\\n",
       "count  5.230758e+06    5.230758e+06    5.230758e+06  5.230758e+06   \n",
       "mean   6.635825e+04    5.605512e+04    1.506902e+04  1.507089e+04   \n",
       "std    2.488902e+05    2.296364e+05    1.218271e+05  1.218253e+05   \n",
       "min    8.000000e-01    0.000000e+00   -1.734180e+00 -1.682530e-01   \n",
       "25%    5.750000e+00    1.293000e+02   -1.019930e-01  2.820310e-01   \n",
       "50%    9.000000e+00    2.086500e+02   -1.770020e-03  1.980450e+00   \n",
       "75%    1.300000e+01    2.698500e+02    1.322670e-01  5.055020e+00   \n",
       "max    9.999993e+05    9.999993e+05    9.999993e+05  9.999993e+05   \n",
       "\n",
       "        Phase Angle  \n",
       "count  5.230758e+06  \n",
       "mean   5.083837e+04  \n",
       "std    2.196691e+05  \n",
       "min   -1.000000e+00  \n",
       "25%   -9.999000e-01  \n",
       "50%   -9.959500e-01  \n",
       "75%   -4.776500e-01  \n",
       "max    9.999993e+05  "
      ]
     },
     "execution_count": 8,
     "metadata": {},
     "output_type": "execute_result"
    }
   ],
   "source": [
    "data.describe()"
   ]
  },
  {
   "cell_type": "code",
   "execution_count": 13,
   "metadata": {},
   "outputs": [
    {
     "name": "stderr",
     "output_type": "stream",
     "text": [
      "/var/folders/2l/vvs13szs5gxbhbsk5mznxk800000gn/T/ipykernel_13552/4277230119.py:1: FutureWarning: The default value of numeric_only in DataFrame.corr is deprecated. In a future version, it will default to False. Select only valid columns or specify the value of numeric_only to silence this warning.\n",
      "  sns.heatmap(data.corr(), vmin = -1, vmax = +1, annot = True, cmap = 'coolwarm')\n"
     ]
    },
    {
     "data": {
      "text/plain": [
       "<AxesSubplot: >"
      ]
     },
     "execution_count": 13,
     "metadata": {},
     "output_type": "execute_result"
    },
    {
     "data": {
      "image/png": "[encoded data removed]",
      "text/plain": [
       "<Figure size 640x480 with 2 Axes>"
      ]
     },
     "metadata": {},
     "output_type": "display_data"
    }
   ],
   "source": [
    "sns.heatmap(data.corr(), vmin = -1, vmax = +1, annot = True, cmap = 'coolwarm')"
   ]
  },
  {
   "cell_type": "markdown",
   "metadata": {},
   "source": [
    "## Statistical description and visualisation of data"
   ]
  },
  {
   "cell_type": "code",
   "execution_count": 16,
   "metadata": {},
   "outputs": [],
   "source": [
    "# MEDIDAS DE TENDENCIA CENTRAL\n",
    "def med_tend_central(valores):\n",
    "    media = np.mean(valores)\n",
    "    mediana = np.median(valores)\n",
    "    print(f'MEDIDAS DE TENCENCIA CENTRAL:\\nMedia = {media}\\nMediana = {mediana}')\n",
    "\n",
    "# MEDIDAS DE VARIABILIDAD\n",
    "def med_var(valores):\n",
    "    desvest = np.std(valores) \n",
    "    percentil25 = np.percentile(valores, 25)\n",
    "    percentil75 = np.percentile(valores, 75)\n",
    "    print(f'MEDIDAS DE VARIABILIDAD:\\nDesviación estándar = {desvest}\\nRango intercuatílico = {percentil75-percentil25}')"
   ]
  },
  {
   "cell_type": "code",
   "execution_count": 23,
   "metadata": {},
   "outputs": [
    {
     "data": {
      "image/png": "[encoded data removed]",
      "text/plain": [
       "<Figure size 640x480 with 1 Axes>"
      ]
     },
     "metadata": {},
     "output_type": "display_data"
    }
   ],
   "source": [
    "plt.boxplot(data['Phase Angle'])\n",
    "plt.show()"
   ]
  }
 ],
 "metadata": {
  "kernelspec": {
   "display_name": "Python 3.9.15 ('DataScience')",
   "language": "python",
   "name": "python3"
  },
  "language_info": {
   "codemirror_mode": {
    "name": "ipython",
    "version": 3
   },
   "file_extension": ".py",
   "mimetype": "text/x-python",
   "name": "python",
   "nbconvert_exporter": "python",
   "pygments_lexer": "ipython3",
   "version": "3.9.15"
  },
  "orig_nbformat": 4,
  "vscode": {
   "interpreter": {
    "hash": "4b5a2aaf94a20ece0551648939ed853b4738d2f77c0cac11f174cba8f59e450c"
   }
  }
 },
 "nbformat": 4,
 "nbformat_minor": 2
}
