{
 "cells": [
  {
   "cell_type": "code",
   "execution_count": 1,
   "metadata": {},
   "outputs": [],
   "source": [
    "import pandas as  pd\n",
    "import numpy as np"
   ]
  },
  {
   "cell_type": "code",
   "execution_count": 2,
   "metadata": {},
   "outputs": [],
   "source": [
    "df = pd.read_csv('../data/bertavivesm.20221129144401885.data.csv', delimiter=';')"
   ]
  },
  {
   "cell_type": "code",
   "execution_count": 3,
   "metadata": {},
   "outputs": [],
   "source": [
    "data = df[['#time',' R1_WNAC/WdSpd.Mean',' R1_WNAC/WdDir.Mean',' R1_WTRF/TrfGriW.Mean']]\n",
    "data.columns = ['time','WindSpeed','WindDirection','Power']"
   ]
  },
  {
   "cell_type": "code",
   "execution_count": 4,
   "metadata": {},
   "outputs": [
    {
     "data": {
      "text/html": [
       "<div>\n",
       "<style scoped>\n",
       "    .dataframe tbody tr th:only-of-type {\n",
       "        vertical-align: middle;\n",
       "    }\n",
       "\n",
       "    .dataframe tbody tr th {\n",
       "        vertical-align: top;\n",
       "    }\n",
       "\n",
       "    .dataframe thead th {\n",
       "        text-align: right;\n",
       "    }\n",
       "</style>\n",
       "<table border=\"1\" class=\"dataframe\">\n",
       "  <thead>\n",
       "    <tr style=\"text-align: right;\">\n",
       "      <th></th>\n",
       "      <th>WindSpeed</th>\n",
       "      <th>WindDirection</th>\n",
       "      <th>Power</th>\n",
       "    </tr>\n",
       "  </thead>\n",
       "  <tbody>\n",
       "    <tr>\n",
       "      <th>count</th>\n",
       "      <td>5.230758e+06</td>\n",
       "      <td>5.230758e+06</td>\n",
       "      <td>5.230758e+06</td>\n",
       "    </tr>\n",
       "    <tr>\n",
       "      <th>mean</th>\n",
       "      <td>6.635825e+04</td>\n",
       "      <td>5.605512e+04</td>\n",
       "      <td>1.507089e+04</td>\n",
       "    </tr>\n",
       "    <tr>\n",
       "      <th>std</th>\n",
       "      <td>2.488902e+05</td>\n",
       "      <td>2.296364e+05</td>\n",
       "      <td>1.218253e+05</td>\n",
       "    </tr>\n",
       "    <tr>\n",
       "      <th>min</th>\n",
       "      <td>8.000000e-01</td>\n",
       "      <td>0.000000e+00</td>\n",
       "      <td>-1.682530e-01</td>\n",
       "    </tr>\n",
       "    <tr>\n",
       "      <th>25%</th>\n",
       "      <td>5.750000e+00</td>\n",
       "      <td>1.293000e+02</td>\n",
       "      <td>2.820310e-01</td>\n",
       "    </tr>\n",
       "    <tr>\n",
       "      <th>50%</th>\n",
       "      <td>9.000000e+00</td>\n",
       "      <td>2.086500e+02</td>\n",
       "      <td>1.980450e+00</td>\n",
       "    </tr>\n",
       "    <tr>\n",
       "      <th>75%</th>\n",
       "      <td>1.300000e+01</td>\n",
       "      <td>2.698500e+02</td>\n",
       "      <td>5.055020e+00</td>\n",
       "    </tr>\n",
       "    <tr>\n",
       "      <th>max</th>\n",
       "      <td>9.999993e+05</td>\n",
       "      <td>9.999993e+05</td>\n",
       "      <td>9.999993e+05</td>\n",
       "    </tr>\n",
       "  </tbody>\n",
       "</table>\n",
       "</div>"
      ],
      "text/plain": [
       "          WindSpeed  WindDirection         Power\n",
       "count  5.230758e+06   5.230758e+06  5.230758e+06\n",
       "mean   6.635825e+04   5.605512e+04  1.507089e+04\n",
       "std    2.488902e+05   2.296364e+05  1.218253e+05\n",
       "min    8.000000e-01   0.000000e+00 -1.682530e-01\n",
       "25%    5.750000e+00   1.293000e+02  2.820310e-01\n",
       "50%    9.000000e+00   2.086500e+02  1.980450e+00\n",
       "75%    1.300000e+01   2.698500e+02  5.055020e+00\n",
       "max    9.999993e+05   9.999993e+05  9.999993e+05"
      ]
     },
     "execution_count": 4,
     "metadata": {},
     "output_type": "execute_result"
    }
   ],
   "source": [
    "data.describe()"
   ]
  },
  {
   "attachments": {},
   "cell_type": "markdown",
   "metadata": {},
   "source": [
    "Aplicamos logaritmo para escalar los datos"
   ]
  },
  {
   "cell_type": "code",
   "execution_count": 5,
   "metadata": {},
   "outputs": [
    {
     "name": "stderr",
     "output_type": "stream",
     "text": [
      "/var/folders/2l/vvs13szs5gxbhbsk5mznxk800000gn/T/ipykernel_43912/2967868636.py:1: SettingWithCopyWarning: \n",
      "A value is trying to be set on a copy of a slice from a DataFrame.\n",
      "Try using .loc[row_indexer,col_indexer] = value instead\n",
      "\n",
      "See the caveats in the documentation: https://pandas.pydata.org/pandas-docs/stable/user_guide/indexing.html#returning-a-view-versus-a-copy\n",
      "  data['WindSpeed'] = np.log(data['WindSpeed'])\n",
      "/var/folders/2l/vvs13szs5gxbhbsk5mznxk800000gn/T/ipykernel_43912/2967868636.py:2: SettingWithCopyWarning: \n",
      "A value is trying to be set on a copy of a slice from a DataFrame.\n",
      "Try using .loc[row_indexer,col_indexer] = value instead\n",
      "\n",
      "See the caveats in the documentation: https://pandas.pydata.org/pandas-docs/stable/user_guide/indexing.html#returning-a-view-versus-a-copy\n",
      "  data['WindDirection'] = np.log(data['WindDirection']+1) # +1 porque hay ceros\n",
      "/Users/berta/opt/miniconda3/envs/DataScience/lib/python3.9/site-packages/pandas/core/arraylike.py:402: RuntimeWarning: invalid value encountered in log\n",
      "  result = getattr(ufunc, method)(*inputs, **kwargs)\n",
      "/var/folders/2l/vvs13szs5gxbhbsk5mznxk800000gn/T/ipykernel_43912/2967868636.py:3: SettingWithCopyWarning: \n",
      "A value is trying to be set on a copy of a slice from a DataFrame.\n",
      "Try using .loc[row_indexer,col_indexer] = value instead\n",
      "\n",
      "See the caveats in the documentation: https://pandas.pydata.org/pandas-docs/stable/user_guide/indexing.html#returning-a-view-versus-a-copy\n",
      "  data['Power'] = np.log(data['Power'])\n"
     ]
    }
   ],
   "source": [
    "data['WindSpeed'] = np.log(data['WindSpeed'])\n",
    "data['WindDirection'] = np.log(data['WindDirection']+1) # +1 porque hay ceros\n",
    "data['Power'] = np.log(data['Power'])"
   ]
  },
  {
   "cell_type": "markdown",
   "metadata": {},
   "source": [
    "Miramos mínimos y máximos"
   ]
  },
  {
   "cell_type": "code",
   "execution_count": 6,
   "metadata": {},
   "outputs": [
    {
     "data": {
      "text/plain": [
       "time             2012-11-20 00:00:00\n",
       "WindSpeed                  -0.223144\n",
       "WindDirection                    0.0\n",
       "Power                      -9.927237\n",
       "dtype: object"
      ]
     },
     "execution_count": 6,
     "metadata": {},
     "output_type": "execute_result"
    }
   ],
   "source": [
    "data.min()"
   ]
  },
  {
   "cell_type": "code",
   "execution_count": 10,
   "metadata": {},
   "outputs": [
    {
     "data": {
      "text/plain": [
       "time             2017-11-20 23:59:00\n",
       "WindSpeed                   13.81551\n",
       "WindDirection              13.815511\n",
       "Power                       13.81551\n",
       "dtype: object"
      ]
     },
     "execution_count": 10,
     "metadata": {},
     "output_type": "execute_result"
    }
   ],
   "source": [
    "data.max()"
   ]
  },
  {
   "cell_type": "markdown",
   "metadata": {},
   "source": [
    "Comprobamos que la distribución no cambia"
   ]
  },
  {
   "cell_type": "code",
   "execution_count": 11,
   "metadata": {},
   "outputs": [
    {
     "data": {
      "text/plain": [
       "array([[<AxesSubplot: title={'center': 'WindSpeed'}>,\n",
       "        <AxesSubplot: title={'center': 'WindDirection'}>],\n",
       "       [<AxesSubplot: title={'center': 'Power'}>, <AxesSubplot: >]],\n",
       "      dtype=object)"
      ]
     },
     "execution_count": 11,
     "metadata": {},
     "output_type": "execute_result"
    },
    {
     "data": {
      "image/png": "[encoded data removed]",
      "text/plain": [
       "<Figure size 640x480 with 4 Axes>"
      ]
     },
     "metadata": {},
     "output_type": "display_data"
    }
   ],
   "source": [
    "data.hist()"
   ]
  },
  {
   "attachments": {},
   "cell_type": "markdown",
   "metadata": {},
   "source": [
    "Miramos la desviación estandar"
   ]
  },
  {
   "cell_type": "code",
   "execution_count": 12,
   "metadata": {},
   "outputs": [
    {
     "data": {
      "text/html": [
       "<div>\n",
       "<style scoped>\n",
       "    .dataframe tbody tr th:only-of-type {\n",
       "        vertical-align: middle;\n",
       "    }\n",
       "\n",
       "    .dataframe tbody tr th {\n",
       "        vertical-align: top;\n",
       "    }\n",
       "\n",
       "    .dataframe thead th {\n",
       "        text-align: right;\n",
       "    }\n",
       "</style>\n",
       "<table border=\"1\" class=\"dataframe\">\n",
       "  <thead>\n",
       "    <tr style=\"text-align: right;\">\n",
       "      <th></th>\n",
       "      <th>WindSpeed</th>\n",
       "      <th>WindDirection</th>\n",
       "      <th>Power</th>\n",
       "    </tr>\n",
       "  </thead>\n",
       "  <tbody>\n",
       "    <tr>\n",
       "      <th>count</th>\n",
       "      <td>5.230758e+06</td>\n",
       "      <td>5.230758e+06</td>\n",
       "      <td>4.244056e+06</td>\n",
       "    </tr>\n",
       "    <tr>\n",
       "      <th>mean</th>\n",
       "      <td>2.826079e+00</td>\n",
       "      <td>5.559033e+00</td>\n",
       "      <td>9.016631e-01</td>\n",
       "    </tr>\n",
       "    <tr>\n",
       "      <th>std</th>\n",
       "      <td>2.988140e+00</td>\n",
       "      <td>2.133192e+00</td>\n",
       "      <td>2.126445e+00</td>\n",
       "    </tr>\n",
       "    <tr>\n",
       "      <th>min</th>\n",
       "      <td>-2.231436e-01</td>\n",
       "      <td>0.000000e+00</td>\n",
       "      <td>-9.927237e+00</td>\n",
       "    </tr>\n",
       "    <tr>\n",
       "      <th>25%</th>\n",
       "      <td>1.749200e+00</td>\n",
       "      <td>4.869839e+00</td>\n",
       "      <td>9.148469e-02</td>\n",
       "    </tr>\n",
       "    <tr>\n",
       "      <th>50%</th>\n",
       "      <td>2.197225e+00</td>\n",
       "      <td>5.345439e+00</td>\n",
       "      <td>1.094196e+00</td>\n",
       "    </tr>\n",
       "    <tr>\n",
       "      <th>75%</th>\n",
       "      <td>2.564949e+00</td>\n",
       "      <td>5.601565e+00</td>\n",
       "      <td>1.635326e+00</td>\n",
       "    </tr>\n",
       "    <tr>\n",
       "      <th>max</th>\n",
       "      <td>1.381551e+01</td>\n",
       "      <td>1.381551e+01</td>\n",
       "      <td>1.381551e+01</td>\n",
       "    </tr>\n",
       "  </tbody>\n",
       "</table>\n",
       "</div>"
      ],
      "text/plain": [
       "          WindSpeed  WindDirection         Power\n",
       "count  5.230758e+06   5.230758e+06  4.244056e+06\n",
       "mean   2.826079e+00   5.559033e+00  9.016631e-01\n",
       "std    2.988140e+00   2.133192e+00  2.126445e+00\n",
       "min   -2.231436e-01   0.000000e+00 -9.927237e+00\n",
       "25%    1.749200e+00   4.869839e+00  9.148469e-02\n",
       "50%    2.197225e+00   5.345439e+00  1.094196e+00\n",
       "75%    2.564949e+00   5.601565e+00  1.635326e+00\n",
       "max    1.381551e+01   1.381551e+01  1.381551e+01"
      ]
     },
     "execution_count": 12,
     "metadata": {},
     "output_type": "execute_result"
    }
   ],
   "source": [
    "data.describe()"
   ]
  },
  {
   "attachments": {},
   "cell_type": "markdown",
   "metadata": {},
   "source": [
    "Miramos los outliers en un boxplot"
   ]
  },
  {
   "cell_type": "code",
   "execution_count": 13,
   "metadata": {},
   "outputs": [
    {
     "data": {
      "text/plain": [
       "<AxesSubplot: >"
      ]
     },
     "execution_count": 13,
     "metadata": {},
     "output_type": "execute_result"
    },
    {
     "data": {
      "image/png": "[encoded data removed]",
      "text/plain": [
       "<Figure size 640x480 with 1 Axes>"
      ]
     },
     "metadata": {},
     "output_type": "display_data"
    }
   ],
   "source": [
    "data.boxplot()"
   ]
  },
  {
   "attachments": {},
   "cell_type": "markdown",
   "metadata": {},
   "source": [
    "Tratamos los outliers\n",
    "\n",
    "1. Calculamos por columna los rangos intercuartiles para ver que datos son outliers.\n",
    "2. Imputamos los outliers a la media."
   ]
  },
  {
   "cell_type": "code",
   "execution_count": 7,
   "metadata": {},
   "outputs": [],
   "source": [
    "# WIND SPEED\n",
    "Q1 = data.WindSpeed.quantile(0.25)\n",
    "Q3 = data.WindSpeed.quantile(0.75)\n",
    "IQR = Q3 -Q1"
   ]
  },
  {
   "cell_type": "code",
   "execution_count": 8,
   "metadata": {},
   "outputs": [
    {
     "name": "stdout",
     "output_type": "stream",
     "text": [
      "0.5255756008308425 3.7885736114399533\n"
     ]
    }
   ],
   "source": [
    "outliers_min = Q1 - 1.5 * IQR\n",
    "outliers_max = Q3 + 1.5 * IQR\n",
    "\n",
    "print(outliers_min, outliers_max)"
   ]
  },
  {
   "cell_type": "code",
   "execution_count": 9,
   "metadata": {},
   "outputs": [
    {
     "data": {
      "text/plain": [
       "2.8260788001274824"
      ]
     },
     "execution_count": 9,
     "metadata": {},
     "output_type": "execute_result"
    }
   ],
   "source": [
    "media = data.WindSpeed.mean()\n",
    "media"
   ]
  },
  {
   "cell_type": "code",
   "execution_count": 10,
   "metadata": {},
   "outputs": [],
   "source": [
    "desvest = data.WindSpeed.std()"
   ]
  },
  {
   "cell_type": "code",
   "execution_count": 12,
   "metadata": {},
   "outputs": [
    {
     "name": "stdout",
     "output_type": "stream",
     "text": [
      "-0.16206161125837593 5.814219211513341\n"
     ]
    }
   ],
   "source": [
    "min = media - desvest\n",
    "max = media + desvest\n",
    "\n",
    "print(min, max)"
   ]
  },
  {
   "cell_type": "code",
   "execution_count": 13,
   "metadata": {},
   "outputs": [
    {
     "name": "stderr",
     "output_type": "stream",
     "text": [
      "/var/folders/2l/vvs13szs5gxbhbsk5mznxk800000gn/T/ipykernel_43912/497622214.py:2: SettingWithCopyWarning: \n",
      "A value is trying to be set on a copy of a slice from a DataFrame.\n",
      "Try using .loc[row_indexer,col_indexer] = value instead\n",
      "\n",
      "See the caveats in the documentation: https://pandas.pydata.org/pandas-docs/stable/user_guide/indexing.html#returning-a-view-versus-a-copy\n",
      "  data.WindSpeed = data.WindSpeed.apply(lambda x: random.choice(np.arange(min, max, 0.01)) if (x>outliers_max or x<outliers_min) else x)\n"
     ]
    }
   ],
   "source": [
    "import random\n",
    "data.WindSpeed = data.WindSpeed.apply(lambda x: random.choice(np.arange(min, max, 0.01)) if (x>outliers_max or x<outliers_min) else x)"
   ]
  },
  {
   "cell_type": "code",
   "execution_count": 14,
   "metadata": {},
   "outputs": [
    {
     "name": "stderr",
     "output_type": "stream",
     "text": [
      "/var/folders/2l/vvs13szs5gxbhbsk5mznxk800000gn/T/ipykernel_43912/2825156173.py:15: SettingWithCopyWarning: \n",
      "A value is trying to be set on a copy of a slice from a DataFrame.\n",
      "Try using .loc[row_indexer,col_indexer] = value instead\n",
      "\n",
      "See the caveats in the documentation: https://pandas.pydata.org/pandas-docs/stable/user_guide/indexing.html#returning-a-view-versus-a-copy\n",
      "  data.WindDirection = data.WindDirection.apply(lambda x: random.choice(np.arange(min, max, 0.01)) if (x>outliers_max or x<outliers_min) else x)\n"
     ]
    }
   ],
   "source": [
    "# WIND DIRECTION\n",
    "Q1 = data.WindDirection.quantile(0.25)\n",
    "Q3 = data.WindDirection.quantile(0.75)\n",
    "IQR = Q3 -Q1\n",
    "\n",
    "outliers_min = Q1 - 1.5 * IQR\n",
    "outliers_max = Q3 + 1.5 * IQR\n",
    "\n",
    "media = data.WindDirection.mean()\n",
    "desvest = data.WindDirection.std()\n",
    "\n",
    "min = media - desvest\n",
    "max = media + desvest\n",
    "\n",
    "data.WindDirection = data.WindDirection.apply(lambda x: random.choice(np.arange(min, max, 0.01)) if (x>outliers_max or x<outliers_min) else x)"
   ]
  },
  {
   "cell_type": "code",
   "execution_count": 15,
   "metadata": {},
   "outputs": [
    {
     "name": "stderr",
     "output_type": "stream",
     "text": [
      "/var/folders/2l/vvs13szs5gxbhbsk5mznxk800000gn/T/ipykernel_43912/1398871538.py:15: SettingWithCopyWarning: \n",
      "A value is trying to be set on a copy of a slice from a DataFrame.\n",
      "Try using .loc[row_indexer,col_indexer] = value instead\n",
      "\n",
      "See the caveats in the documentation: https://pandas.pydata.org/pandas-docs/stable/user_guide/indexing.html#returning-a-view-versus-a-copy\n",
      "  data.Power = data.Power.apply(lambda x: random.choice(np.arange(min, max, 0.01)) if (x>outliers_max or x<outliers_min) else x)\n"
     ]
    }
   ],
   "source": [
    "# POWER\n",
    "Q1 = data.Power.quantile(0.25)\n",
    "Q3 = data.Power.quantile(0.75)\n",
    "IQR = Q3 -Q1\n",
    "\n",
    "outliers_min = Q1 - 1.5 * IQR\n",
    "outliers_max = Q3 + 1.5 * IQR\n",
    "\n",
    "media = data.Power.mean()\n",
    "desvest = data.Power.std()\n",
    "\n",
    "min = media - desvest\n",
    "max = media + desvest\n",
    "\n",
    "data.Power = data.Power.apply(lambda x: random.choice(np.arange(min, max, 0.01)) if (x>outliers_max or x<outliers_min) else x)"
   ]
  },
  {
   "cell_type": "code",
   "execution_count": 16,
   "metadata": {},
   "outputs": [
    {
     "data": {
      "text/plain": [
       "<AxesSubplot: >"
      ]
     },
     "execution_count": 16,
     "metadata": {},
     "output_type": "execute_result"
    },
    {
     "data": {
      "image/png": "[encoded data removed]",
      "text/plain": [
       "<Figure size 640x480 with 1 Axes>"
      ]
     },
     "metadata": {},
     "output_type": "display_data"
    }
   ],
   "source": [
    "data.boxplot()"
   ]
  },
  {
   "cell_type": "code",
   "execution_count": 49,
   "metadata": {},
   "outputs": [
    {
     "data": {
      "text/plain": [
       "array([[<AxesSubplot: title={'center': 'WindSpeed'}>,\n",
       "        <AxesSubplot: title={'center': 'WindDirection'}>],\n",
       "       [<AxesSubplot: title={'center': 'Power'}>, <AxesSubplot: >]],\n",
       "      dtype=object)"
      ]
     },
     "execution_count": 49,
     "metadata": {},
     "output_type": "execute_result"
    },
    {
     "data": {
      "image/png": "[encoded data removed]",
      "text/plain": [
       "<Figure size 640x480 with 4 Axes>"
      ]
     },
     "metadata": {},
     "output_type": "display_data"
    }
   ],
   "source": [
    "data.hist()"
   ]
  },
  {
   "cell_type": "code",
   "execution_count": 18,
   "metadata": {},
   "outputs": [
    {
     "name": "stderr",
     "output_type": "stream",
     "text": [
      "/var/folders/2l/vvs13szs5gxbhbsk5mznxk800000gn/T/ipykernel_43912/3083069501.py:1: SettingWithCopyWarning: \n",
      "A value is trying to be set on a copy of a slice from a DataFrame.\n",
      "Try using .loc[row_indexer,col_indexer] = value instead\n",
      "\n",
      "See the caveats in the documentation: https://pandas.pydata.org/pandas-docs/stable/user_guide/indexing.html#returning-a-view-versus-a-copy\n",
      "  data['WindSpeed'] = np.exp(data['WindSpeed'])\n",
      "/var/folders/2l/vvs13szs5gxbhbsk5mznxk800000gn/T/ipykernel_43912/3083069501.py:2: SettingWithCopyWarning: \n",
      "A value is trying to be set on a copy of a slice from a DataFrame.\n",
      "Try using .loc[row_indexer,col_indexer] = value instead\n",
      "\n",
      "See the caveats in the documentation: https://pandas.pydata.org/pandas-docs/stable/user_guide/indexing.html#returning-a-view-versus-a-copy\n",
      "  data['WindDirection'] = np.exp(data['WindDirection']) # +1 porque hay ceros\n",
      "/var/folders/2l/vvs13szs5gxbhbsk5mznxk800000gn/T/ipykernel_43912/3083069501.py:3: SettingWithCopyWarning: \n",
      "A value is trying to be set on a copy of a slice from a DataFrame.\n",
      "Try using .loc[row_indexer,col_indexer] = value instead\n",
      "\n",
      "See the caveats in the documentation: https://pandas.pydata.org/pandas-docs/stable/user_guide/indexing.html#returning-a-view-versus-a-copy\n",
      "  data['Power'] = np.exp(data['Power'])\n"
     ]
    }
   ],
   "source": [
    "data['WindSpeed'] = np.exp(data['WindSpeed'])\n",
    "data['WindDirection'] = np.exp(data['WindDirection']) # +1 porque hay ceros\n",
    "data['Power'] = np.exp(data['Power'])"
   ]
  },
  {
   "cell_type": "code",
   "execution_count": 24,
   "metadata": {},
   "outputs": [
    {
     "data": {
      "text/html": [
       "<div>\n",
       "<style scoped>\n",
       "    .dataframe tbody tr th:only-of-type {\n",
       "        vertical-align: middle;\n",
       "    }\n",
       "\n",
       "    .dataframe tbody tr th {\n",
       "        vertical-align: top;\n",
       "    }\n",
       "\n",
       "    .dataframe thead th {\n",
       "        text-align: right;\n",
       "    }\n",
       "</style>\n",
       "<table border=\"1\" class=\"dataframe\">\n",
       "  <thead>\n",
       "    <tr style=\"text-align: right;\">\n",
       "      <th></th>\n",
       "      <th>time</th>\n",
       "      <th>WindSpeed</th>\n",
       "      <th>WindDirection</th>\n",
       "      <th>Power</th>\n",
       "    </tr>\n",
       "  </thead>\n",
       "  <tbody>\n",
       "    <tr>\n",
       "      <th>0</th>\n",
       "      <td>2012-11-20 00:00:00</td>\n",
       "      <td>14.90</td>\n",
       "      <td>202.80</td>\n",
       "      <td>5.16635</td>\n",
       "    </tr>\n",
       "    <tr>\n",
       "      <th>1</th>\n",
       "      <td>2012-11-20 00:01:00</td>\n",
       "      <td>14.90</td>\n",
       "      <td>202.80</td>\n",
       "      <td>5.15418</td>\n",
       "    </tr>\n",
       "    <tr>\n",
       "      <th>2</th>\n",
       "      <td>2012-11-20 00:02:00</td>\n",
       "      <td>14.70</td>\n",
       "      <td>205.10</td>\n",
       "      <td>5.13652</td>\n",
       "    </tr>\n",
       "    <tr>\n",
       "      <th>3</th>\n",
       "      <td>2012-11-20 00:03:00</td>\n",
       "      <td>14.30</td>\n",
       "      <td>209.50</td>\n",
       "      <td>5.02154</td>\n",
       "    </tr>\n",
       "    <tr>\n",
       "      <th>4</th>\n",
       "      <td>2012-11-20 00:04:00</td>\n",
       "      <td>13.45</td>\n",
       "      <td>210.65</td>\n",
       "      <td>5.09451</td>\n",
       "    </tr>\n",
       "    <tr>\n",
       "      <th>...</th>\n",
       "      <td>...</td>\n",
       "      <td>...</td>\n",
       "      <td>...</td>\n",
       "      <td>...</td>\n",
       "    </tr>\n",
       "    <tr>\n",
       "      <th>5230753</th>\n",
       "      <td>2017-11-20 23:55:00</td>\n",
       "      <td>2.95</td>\n",
       "      <td>121.45</td>\n",
       "      <td>NaN</td>\n",
       "    </tr>\n",
       "    <tr>\n",
       "      <th>5230754</th>\n",
       "      <td>2017-11-20 23:56:00</td>\n",
       "      <td>2.45</td>\n",
       "      <td>113.95</td>\n",
       "      <td>NaN</td>\n",
       "    </tr>\n",
       "    <tr>\n",
       "      <th>5230755</th>\n",
       "      <td>2017-11-20 23:57:00</td>\n",
       "      <td>1.80</td>\n",
       "      <td>108.30</td>\n",
       "      <td>NaN</td>\n",
       "    </tr>\n",
       "    <tr>\n",
       "      <th>5230756</th>\n",
       "      <td>2017-11-20 23:58:00</td>\n",
       "      <td>2.70</td>\n",
       "      <td>121.00</td>\n",
       "      <td>NaN</td>\n",
       "    </tr>\n",
       "    <tr>\n",
       "      <th>5230757</th>\n",
       "      <td>2017-11-20 23:59:00</td>\n",
       "      <td>3.05</td>\n",
       "      <td>117.70</td>\n",
       "      <td>NaN</td>\n",
       "    </tr>\n",
       "  </tbody>\n",
       "</table>\n",
       "<p>5230758 rows × 4 columns</p>\n",
       "</div>"
      ],
      "text/plain": [
       "                        time  WindSpeed  WindDirection    Power\n",
       "0        2012-11-20 00:00:00      14.90         202.80  5.16635\n",
       "1        2012-11-20 00:01:00      14.90         202.80  5.15418\n",
       "2        2012-11-20 00:02:00      14.70         205.10  5.13652\n",
       "3        2012-11-20 00:03:00      14.30         209.50  5.02154\n",
       "4        2012-11-20 00:04:00      13.45         210.65  5.09451\n",
       "...                      ...        ...            ...      ...\n",
       "5230753  2017-11-20 23:55:00       2.95         121.45      NaN\n",
       "5230754  2017-11-20 23:56:00       2.45         113.95      NaN\n",
       "5230755  2017-11-20 23:57:00       1.80         108.30      NaN\n",
       "5230756  2017-11-20 23:58:00       2.70         121.00      NaN\n",
       "5230757  2017-11-20 23:59:00       3.05         117.70      NaN\n",
       "\n",
       "[5230758 rows x 4 columns]"
      ]
     },
     "execution_count": 24,
     "metadata": {},
     "output_type": "execute_result"
    }
   ],
   "source": [
    "data"
   ]
  },
  {
   "cell_type": "code",
   "execution_count": 19,
   "metadata": {},
   "outputs": [
    {
     "data": {
      "text/plain": [
       "<AxesSubplot: >"
      ]
     },
     "execution_count": 19,
     "metadata": {},
     "output_type": "execute_result"
    }
   ],
   "source": [
    "data.boxplot()"
   ]
  }
 ],
 "metadata": {
  "kernelspec": {
   "display_name": "Python 3.9.15 ('DataScience')",
   "language": "python",
   "name": "python3"
  },
  "language_info": {
   "codemirror_mode": {
    "name": "ipython",
    "version": 3
   },
   "file_extension": ".py",
   "mimetype": "text/x-python",
   "name": "python",
   "nbconvert_exporter": "python",
   "pygments_lexer": "ipython3",
   "version": "3.9.15"
  },
  "orig_nbformat": 4,
  "vscode": {
   "interpreter": {
    "hash": "4b5a2aaf94a20ece0551648939ed853b4738d2f77c0cac11f174cba8f59e450c"
   }
  }
 },
 "nbformat": 4,
 "nbformat_minor": 2
}
