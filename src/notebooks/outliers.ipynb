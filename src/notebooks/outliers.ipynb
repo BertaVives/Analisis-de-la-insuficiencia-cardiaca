{
 "cells": [
  {
   "cell_type": "code",
   "execution_count": 13,
   "metadata": {},
   "outputs": [],
   "source": [
    "import pandas as  pd\n",
    "import numpy as np\n",
    "import seaborn as sns"
   ]
  },
  {
   "cell_type": "code",
   "execution_count": 2,
   "metadata": {},
   "outputs": [],
   "source": [
    "a = pd.read_csv('../data/bertavivesm.20221129144401885.data.csv', delimiter=';')"
   ]
  },
  {
   "cell_type": "code",
   "execution_count": 3,
   "metadata": {},
   "outputs": [],
   "source": [
    "data = a[['#time',' R1_WNAC/WdSpd.Mean',' R1_WNAC/WdDir.Mean',' R1_WTRF/TrfGriVAr.Mean',' R1_WTRF/TrfGriW.Mean',' R1_WTRF/TrfGriPf.Mean']]\n",
    "data.columns = ['time','WindSpeed','WindDirection','ReactivePower','ActivePower','PhaseAngle']"
   ]
  },
  {
   "cell_type": "code",
   "execution_count": 4,
   "metadata": {},
   "outputs": [
    {
     "data": {
      "text/html": [
       "<div>\n",
       "<style scoped>\n",
       "    .dataframe tbody tr th:only-of-type {\n",
       "        vertical-align: middle;\n",
       "    }\n",
       "\n",
       "    .dataframe tbody tr th {\n",
       "        vertical-align: top;\n",
       "    }\n",
       "\n",
       "    .dataframe thead th {\n",
       "        text-align: right;\n",
       "    }\n",
       "</style>\n",
       "<table border=\"1\" class=\"dataframe\">\n",
       "  <thead>\n",
       "    <tr style=\"text-align: right;\">\n",
       "      <th></th>\n",
       "      <th>WindSpeed</th>\n",
       "      <th>WindDirection</th>\n",
       "      <th>ReactivePower</th>\n",
       "      <th>ActivePower</th>\n",
       "      <th>PhaseAngle</th>\n",
       "    </tr>\n",
       "  </thead>\n",
       "  <tbody>\n",
       "    <tr>\n",
       "      <th>count</th>\n",
       "      <td>5.230758e+06</td>\n",
       "      <td>5.230758e+06</td>\n",
       "      <td>5.230758e+06</td>\n",
       "      <td>5.230758e+06</td>\n",
       "      <td>5.230758e+06</td>\n",
       "    </tr>\n",
       "    <tr>\n",
       "      <th>mean</th>\n",
       "      <td>6.635825e+04</td>\n",
       "      <td>5.605512e+04</td>\n",
       "      <td>1.506902e+04</td>\n",
       "      <td>1.507089e+04</td>\n",
       "      <td>5.083837e+04</td>\n",
       "    </tr>\n",
       "    <tr>\n",
       "      <th>std</th>\n",
       "      <td>2.488902e+05</td>\n",
       "      <td>2.296364e+05</td>\n",
       "      <td>1.218271e+05</td>\n",
       "      <td>1.218253e+05</td>\n",
       "      <td>2.196691e+05</td>\n",
       "    </tr>\n",
       "    <tr>\n",
       "      <th>min</th>\n",
       "      <td>8.000000e-01</td>\n",
       "      <td>0.000000e+00</td>\n",
       "      <td>-1.734180e+00</td>\n",
       "      <td>-1.682530e-01</td>\n",
       "      <td>-1.000000e+00</td>\n",
       "    </tr>\n",
       "    <tr>\n",
       "      <th>25%</th>\n",
       "      <td>5.750000e+00</td>\n",
       "      <td>1.293000e+02</td>\n",
       "      <td>-1.019930e-01</td>\n",
       "      <td>2.820310e-01</td>\n",
       "      <td>-9.999000e-01</td>\n",
       "    </tr>\n",
       "    <tr>\n",
       "      <th>50%</th>\n",
       "      <td>9.000000e+00</td>\n",
       "      <td>2.086500e+02</td>\n",
       "      <td>-1.770020e-03</td>\n",
       "      <td>1.980450e+00</td>\n",
       "      <td>-9.959500e-01</td>\n",
       "    </tr>\n",
       "    <tr>\n",
       "      <th>75%</th>\n",
       "      <td>1.300000e+01</td>\n",
       "      <td>2.698500e+02</td>\n",
       "      <td>1.322670e-01</td>\n",
       "      <td>5.055020e+00</td>\n",
       "      <td>-4.776500e-01</td>\n",
       "    </tr>\n",
       "    <tr>\n",
       "      <th>max</th>\n",
       "      <td>9.999993e+05</td>\n",
       "      <td>9.999993e+05</td>\n",
       "      <td>9.999993e+05</td>\n",
       "      <td>9.999993e+05</td>\n",
       "      <td>9.999993e+05</td>\n",
       "    </tr>\n",
       "  </tbody>\n",
       "</table>\n",
       "</div>"
      ],
      "text/plain": [
       "          WindSpeed  WindDirection  ReactivePower   ActivePower    PhaseAngle\n",
       "count  5.230758e+06   5.230758e+06   5.230758e+06  5.230758e+06  5.230758e+06\n",
       "mean   6.635825e+04   5.605512e+04   1.506902e+04  1.507089e+04  5.083837e+04\n",
       "std    2.488902e+05   2.296364e+05   1.218271e+05  1.218253e+05  2.196691e+05\n",
       "min    8.000000e-01   0.000000e+00  -1.734180e+00 -1.682530e-01 -1.000000e+00\n",
       "25%    5.750000e+00   1.293000e+02  -1.019930e-01  2.820310e-01 -9.999000e-01\n",
       "50%    9.000000e+00   2.086500e+02  -1.770020e-03  1.980450e+00 -9.959500e-01\n",
       "75%    1.300000e+01   2.698500e+02   1.322670e-01  5.055020e+00 -4.776500e-01\n",
       "max    9.999993e+05   9.999993e+05   9.999993e+05  9.999993e+05  9.999993e+05"
      ]
     },
     "execution_count": 4,
     "metadata": {},
     "output_type": "execute_result"
    }
   ],
   "source": [
    "data.describe()"
   ]
  },
  {
   "cell_type": "code",
   "execution_count": 5,
   "metadata": {},
   "outputs": [],
   "source": [
    "data.set_index('time', inplace=True)"
   ]
  },
  {
   "cell_type": "code",
   "execution_count": 6,
   "metadata": {},
   "outputs": [
    {
     "data": {
      "text/html": [
       "<div>\n",
       "<style scoped>\n",
       "    .dataframe tbody tr th:only-of-type {\n",
       "        vertical-align: middle;\n",
       "    }\n",
       "\n",
       "    .dataframe tbody tr th {\n",
       "        vertical-align: top;\n",
       "    }\n",
       "\n",
       "    .dataframe thead th {\n",
       "        text-align: right;\n",
       "    }\n",
       "</style>\n",
       "<table border=\"1\" class=\"dataframe\">\n",
       "  <thead>\n",
       "    <tr style=\"text-align: right;\">\n",
       "      <th></th>\n",
       "      <th>WindSpeed</th>\n",
       "      <th>WindDirection</th>\n",
       "      <th>ReactivePower</th>\n",
       "      <th>ActivePower</th>\n",
       "      <th>PhaseAngle</th>\n",
       "    </tr>\n",
       "    <tr>\n",
       "      <th>time</th>\n",
       "      <th></th>\n",
       "      <th></th>\n",
       "      <th></th>\n",
       "      <th></th>\n",
       "      <th></th>\n",
       "    </tr>\n",
       "  </thead>\n",
       "  <tbody>\n",
       "    <tr>\n",
       "      <th>2012-11-20 00:00:00</th>\n",
       "      <td>14.90</td>\n",
       "      <td>201.80</td>\n",
       "      <td>-0.666463</td>\n",
       "      <td>5.166350</td>\n",
       "      <td>-0.99460</td>\n",
       "    </tr>\n",
       "    <tr>\n",
       "      <th>2012-11-20 00:01:00</th>\n",
       "      <td>14.90</td>\n",
       "      <td>201.80</td>\n",
       "      <td>-0.625202</td>\n",
       "      <td>5.154180</td>\n",
       "      <td>-0.99460</td>\n",
       "    </tr>\n",
       "    <tr>\n",
       "      <th>2012-11-20 00:02:00</th>\n",
       "      <td>14.70</td>\n",
       "      <td>204.10</td>\n",
       "      <td>-0.658773</td>\n",
       "      <td>5.136520</td>\n",
       "      <td>-0.99450</td>\n",
       "    </tr>\n",
       "    <tr>\n",
       "      <th>2012-11-20 00:03:00</th>\n",
       "      <td>14.30</td>\n",
       "      <td>208.50</td>\n",
       "      <td>-0.628620</td>\n",
       "      <td>5.021540</td>\n",
       "      <td>-0.99675</td>\n",
       "    </tr>\n",
       "    <tr>\n",
       "      <th>2012-11-20 00:04:00</th>\n",
       "      <td>13.45</td>\n",
       "      <td>209.65</td>\n",
       "      <td>-0.647664</td>\n",
       "      <td>5.094510</td>\n",
       "      <td>-0.99610</td>\n",
       "    </tr>\n",
       "    <tr>\n",
       "      <th>...</th>\n",
       "      <td>...</td>\n",
       "      <td>...</td>\n",
       "      <td>...</td>\n",
       "      <td>...</td>\n",
       "      <td>...</td>\n",
       "    </tr>\n",
       "    <tr>\n",
       "      <th>2017-11-20 23:55:00</th>\n",
       "      <td>2.95</td>\n",
       "      <td>120.45</td>\n",
       "      <td>0.031556</td>\n",
       "      <td>-0.063793</td>\n",
       "      <td>0.36055</td>\n",
       "    </tr>\n",
       "    <tr>\n",
       "      <th>2017-11-20 23:56:00</th>\n",
       "      <td>2.45</td>\n",
       "      <td>112.95</td>\n",
       "      <td>0.031556</td>\n",
       "      <td>-0.092756</td>\n",
       "      <td>0.39160</td>\n",
       "    </tr>\n",
       "    <tr>\n",
       "      <th>2017-11-20 23:57:00</th>\n",
       "      <td>1.80</td>\n",
       "      <td>107.30</td>\n",
       "      <td>0.044557</td>\n",
       "      <td>-0.106760</td>\n",
       "      <td>0.60230</td>\n",
       "    </tr>\n",
       "    <tr>\n",
       "      <th>2017-11-20 23:58:00</th>\n",
       "      <td>2.70</td>\n",
       "      <td>120.00</td>\n",
       "      <td>0.024293</td>\n",
       "      <td>-0.076840</td>\n",
       "      <td>0.29820</td>\n",
       "    </tr>\n",
       "    <tr>\n",
       "      <th>2017-11-20 23:59:00</th>\n",
       "      <td>3.05</td>\n",
       "      <td>116.70</td>\n",
       "      <td>0.014222</td>\n",
       "      <td>-0.033351</td>\n",
       "      <td>0.25405</td>\n",
       "    </tr>\n",
       "  </tbody>\n",
       "</table>\n",
       "<p>5230758 rows × 5 columns</p>\n",
       "</div>"
      ],
      "text/plain": [
       "                     WindSpeed  WindDirection  ReactivePower  ActivePower  \\\n",
       "time                                                                        \n",
       "2012-11-20 00:00:00      14.90         201.80      -0.666463     5.166350   \n",
       "2012-11-20 00:01:00      14.90         201.80      -0.625202     5.154180   \n",
       "2012-11-20 00:02:00      14.70         204.10      -0.658773     5.136520   \n",
       "2012-11-20 00:03:00      14.30         208.50      -0.628620     5.021540   \n",
       "2012-11-20 00:04:00      13.45         209.65      -0.647664     5.094510   \n",
       "...                        ...            ...            ...          ...   \n",
       "2017-11-20 23:55:00       2.95         120.45       0.031556    -0.063793   \n",
       "2017-11-20 23:56:00       2.45         112.95       0.031556    -0.092756   \n",
       "2017-11-20 23:57:00       1.80         107.30       0.044557    -0.106760   \n",
       "2017-11-20 23:58:00       2.70         120.00       0.024293    -0.076840   \n",
       "2017-11-20 23:59:00       3.05         116.70       0.014222    -0.033351   \n",
       "\n",
       "                     PhaseAngle  \n",
       "time                             \n",
       "2012-11-20 00:00:00    -0.99460  \n",
       "2012-11-20 00:01:00    -0.99460  \n",
       "2012-11-20 00:02:00    -0.99450  \n",
       "2012-11-20 00:03:00    -0.99675  \n",
       "2012-11-20 00:04:00    -0.99610  \n",
       "...                         ...  \n",
       "2017-11-20 23:55:00     0.36055  \n",
       "2017-11-20 23:56:00     0.39160  \n",
       "2017-11-20 23:57:00     0.60230  \n",
       "2017-11-20 23:58:00     0.29820  \n",
       "2017-11-20 23:59:00     0.25405  \n",
       "\n",
       "[5230758 rows x 5 columns]"
      ]
     },
     "execution_count": 6,
     "metadata": {},
     "output_type": "execute_result"
    }
   ],
   "source": [
    "data"
   ]
  },
  {
   "cell_type": "code",
   "execution_count": 7,
   "metadata": {},
   "outputs": [
    {
     "name": "stderr",
     "output_type": "stream",
     "text": [
      "/var/folders/2l/vvs13szs5gxbhbsk5mznxk800000gn/T/ipykernel_50884/3922583670.py:1: SettingWithCopyWarning: \n",
      "A value is trying to be set on a copy of a slice from a DataFrame\n",
      "\n",
      "See the caveats in the documentation: https://pandas.pydata.org/pandas-docs/stable/user_guide/indexing.html#returning-a-view-versus-a-copy\n",
      "  data.replace(999999.333,np.nan, inplace=True)\n"
     ]
    }
   ],
   "source": [
    "data.replace(999999.333,np.nan, inplace=True)"
   ]
  },
  {
   "cell_type": "code",
   "execution_count": 8,
   "metadata": {},
   "outputs": [
    {
     "data": {
      "text/plain": [
       "WindSpeed         40.00000\n",
       "WindDirection    359.90000\n",
       "ReactivePower      1.64928\n",
       "ActivePower        5.46260\n",
       "PhaseAngle         1.00000\n",
       "dtype: float64"
      ]
     },
     "execution_count": 8,
     "metadata": {},
     "output_type": "execute_result"
    }
   ],
   "source": [
    "data.max()"
   ]
  },
  {
   "cell_type": "code",
   "execution_count": 9,
   "metadata": {},
   "outputs": [
    {
     "name": "stderr",
     "output_type": "stream",
     "text": [
      "/var/folders/2l/vvs13szs5gxbhbsk5mznxk800000gn/T/ipykernel_50884/4187836135.py:1: SettingWithCopyWarning: \n",
      "A value is trying to be set on a copy of a slice from a DataFrame\n",
      "\n",
      "See the caveats in the documentation: https://pandas.pydata.org/pandas-docs/stable/user_guide/indexing.html#returning-a-view-versus-a-copy\n",
      "  data.ffill(axis=0, inplace=True)\n"
     ]
    }
   ],
   "source": [
    "data.ffill(axis=0, inplace=True)"
   ]
  },
  {
   "cell_type": "code",
   "execution_count": 10,
   "metadata": {},
   "outputs": [
    {
     "data": {
      "text/html": [
       "<div>\n",
       "<style scoped>\n",
       "    .dataframe tbody tr th:only-of-type {\n",
       "        vertical-align: middle;\n",
       "    }\n",
       "\n",
       "    .dataframe tbody tr th {\n",
       "        vertical-align: top;\n",
       "    }\n",
       "\n",
       "    .dataframe thead th {\n",
       "        text-align: right;\n",
       "    }\n",
       "</style>\n",
       "<table border=\"1\" class=\"dataframe\">\n",
       "  <thead>\n",
       "    <tr style=\"text-align: right;\">\n",
       "      <th></th>\n",
       "      <th>WindSpeed</th>\n",
       "      <th>WindDirection</th>\n",
       "      <th>ReactivePower</th>\n",
       "      <th>ActivePower</th>\n",
       "      <th>PhaseAngle</th>\n",
       "    </tr>\n",
       "    <tr>\n",
       "      <th>time</th>\n",
       "      <th></th>\n",
       "      <th></th>\n",
       "      <th></th>\n",
       "      <th></th>\n",
       "      <th></th>\n",
       "    </tr>\n",
       "  </thead>\n",
       "  <tbody>\n",
       "    <tr>\n",
       "      <th>2012-11-20 00:00:00</th>\n",
       "      <td>14.90</td>\n",
       "      <td>201.80</td>\n",
       "      <td>-0.666463</td>\n",
       "      <td>5.166350</td>\n",
       "      <td>-0.99460</td>\n",
       "    </tr>\n",
       "    <tr>\n",
       "      <th>2012-11-20 00:01:00</th>\n",
       "      <td>14.90</td>\n",
       "      <td>201.80</td>\n",
       "      <td>-0.625202</td>\n",
       "      <td>5.154180</td>\n",
       "      <td>-0.99460</td>\n",
       "    </tr>\n",
       "    <tr>\n",
       "      <th>2012-11-20 00:02:00</th>\n",
       "      <td>14.70</td>\n",
       "      <td>204.10</td>\n",
       "      <td>-0.658773</td>\n",
       "      <td>5.136520</td>\n",
       "      <td>-0.99450</td>\n",
       "    </tr>\n",
       "    <tr>\n",
       "      <th>2012-11-20 00:03:00</th>\n",
       "      <td>14.30</td>\n",
       "      <td>208.50</td>\n",
       "      <td>-0.628620</td>\n",
       "      <td>5.021540</td>\n",
       "      <td>-0.99675</td>\n",
       "    </tr>\n",
       "    <tr>\n",
       "      <th>2012-11-20 00:04:00</th>\n",
       "      <td>13.45</td>\n",
       "      <td>209.65</td>\n",
       "      <td>-0.647664</td>\n",
       "      <td>5.094510</td>\n",
       "      <td>-0.99610</td>\n",
       "    </tr>\n",
       "    <tr>\n",
       "      <th>...</th>\n",
       "      <td>...</td>\n",
       "      <td>...</td>\n",
       "      <td>...</td>\n",
       "      <td>...</td>\n",
       "      <td>...</td>\n",
       "    </tr>\n",
       "    <tr>\n",
       "      <th>2017-11-20 23:55:00</th>\n",
       "      <td>2.95</td>\n",
       "      <td>120.45</td>\n",
       "      <td>0.031556</td>\n",
       "      <td>-0.063793</td>\n",
       "      <td>0.36055</td>\n",
       "    </tr>\n",
       "    <tr>\n",
       "      <th>2017-11-20 23:56:00</th>\n",
       "      <td>2.45</td>\n",
       "      <td>112.95</td>\n",
       "      <td>0.031556</td>\n",
       "      <td>-0.092756</td>\n",
       "      <td>0.39160</td>\n",
       "    </tr>\n",
       "    <tr>\n",
       "      <th>2017-11-20 23:57:00</th>\n",
       "      <td>1.80</td>\n",
       "      <td>107.30</td>\n",
       "      <td>0.044557</td>\n",
       "      <td>-0.106760</td>\n",
       "      <td>0.60230</td>\n",
       "    </tr>\n",
       "    <tr>\n",
       "      <th>2017-11-20 23:58:00</th>\n",
       "      <td>2.70</td>\n",
       "      <td>120.00</td>\n",
       "      <td>0.024293</td>\n",
       "      <td>-0.076840</td>\n",
       "      <td>0.29820</td>\n",
       "    </tr>\n",
       "    <tr>\n",
       "      <th>2017-11-20 23:59:00</th>\n",
       "      <td>3.05</td>\n",
       "      <td>116.70</td>\n",
       "      <td>0.014222</td>\n",
       "      <td>-0.033351</td>\n",
       "      <td>0.25405</td>\n",
       "    </tr>\n",
       "  </tbody>\n",
       "</table>\n",
       "<p>5230758 rows × 5 columns</p>\n",
       "</div>"
      ],
      "text/plain": [
       "                     WindSpeed  WindDirection  ReactivePower  ActivePower  \\\n",
       "time                                                                        \n",
       "2012-11-20 00:00:00      14.90         201.80      -0.666463     5.166350   \n",
       "2012-11-20 00:01:00      14.90         201.80      -0.625202     5.154180   \n",
       "2012-11-20 00:02:00      14.70         204.10      -0.658773     5.136520   \n",
       "2012-11-20 00:03:00      14.30         208.50      -0.628620     5.021540   \n",
       "2012-11-20 00:04:00      13.45         209.65      -0.647664     5.094510   \n",
       "...                        ...            ...            ...          ...   \n",
       "2017-11-20 23:55:00       2.95         120.45       0.031556    -0.063793   \n",
       "2017-11-20 23:56:00       2.45         112.95       0.031556    -0.092756   \n",
       "2017-11-20 23:57:00       1.80         107.30       0.044557    -0.106760   \n",
       "2017-11-20 23:58:00       2.70         120.00       0.024293    -0.076840   \n",
       "2017-11-20 23:59:00       3.05         116.70       0.014222    -0.033351   \n",
       "\n",
       "                     PhaseAngle  \n",
       "time                             \n",
       "2012-11-20 00:00:00    -0.99460  \n",
       "2012-11-20 00:01:00    -0.99460  \n",
       "2012-11-20 00:02:00    -0.99450  \n",
       "2012-11-20 00:03:00    -0.99675  \n",
       "2012-11-20 00:04:00    -0.99610  \n",
       "...                         ...  \n",
       "2017-11-20 23:55:00     0.36055  \n",
       "2017-11-20 23:56:00     0.39160  \n",
       "2017-11-20 23:57:00     0.60230  \n",
       "2017-11-20 23:58:00     0.29820  \n",
       "2017-11-20 23:59:00     0.25405  \n",
       "\n",
       "[5230758 rows x 5 columns]"
      ]
     },
     "execution_count": 10,
     "metadata": {},
     "output_type": "execute_result"
    }
   ],
   "source": [
    "data"
   ]
  },
  {
   "cell_type": "code",
   "execution_count": 17,
   "metadata": {},
   "outputs": [
    {
     "ename": "AssertionError",
     "evalue": "1",
     "output_type": "error",
     "traceback": [
      "\u001b[0;31m---------------------------------------------------------------------------\u001b[0m",
      "\u001b[0;31mAssertionError\u001b[0m                            Traceback (most recent call last)",
      "Cell \u001b[0;32mIn[17], line 1\u001b[0m\n\u001b[0;32m----> 1\u001b[0m data\u001b[39m.\u001b[39;49mboxplot()\n",
      "File \u001b[0;32m~/opt/miniconda3/envs/DataScience/lib/python3.9/site-packages/pandas/plotting/_core.py:516\u001b[0m, in \u001b[0;36mboxplot_frame\u001b[0;34m(self, column, by, ax, fontsize, rot, grid, figsize, layout, return_type, backend, **kwargs)\u001b[0m\n\u001b[1;32m    499\u001b[0m \u001b[39m@Substitution\u001b[39m(backend\u001b[39m=\u001b[39m_backend_doc)\n\u001b[1;32m    500\u001b[0m \u001b[39m@Appender\u001b[39m(_boxplot_doc)\n\u001b[1;32m    501\u001b[0m \u001b[39mdef\u001b[39;00m \u001b[39mboxplot_frame\u001b[39m(\n\u001b[0;32m   (...)\u001b[0m\n\u001b[1;32m    513\u001b[0m     \u001b[39m*\u001b[39m\u001b[39m*\u001b[39mkwargs,\n\u001b[1;32m    514\u001b[0m ):\n\u001b[1;32m    515\u001b[0m     plot_backend \u001b[39m=\u001b[39m _get_plot_backend(backend)\n\u001b[0;32m--> 516\u001b[0m     \u001b[39mreturn\u001b[39;00m plot_backend\u001b[39m.\u001b[39;49mboxplot_frame(\n\u001b[1;32m    517\u001b[0m         \u001b[39mself\u001b[39;49m,\n\u001b[1;32m    518\u001b[0m         column\u001b[39m=\u001b[39;49mcolumn,\n\u001b[1;32m    519\u001b[0m         by\u001b[39m=\u001b[39;49mby,\n\u001b[1;32m    520\u001b[0m         ax\u001b[39m=\u001b[39;49max,\n\u001b[1;32m    521\u001b[0m         fontsize\u001b[39m=\u001b[39;49mfontsize,\n\u001b[1;32m    522\u001b[0m         rot\u001b[39m=\u001b[39;49mrot,\n\u001b[1;32m    523\u001b[0m         grid\u001b[39m=\u001b[39;49mgrid,\n\u001b[1;32m    524\u001b[0m         figsize\u001b[39m=\u001b[39;49mfigsize,\n\u001b[1;32m    525\u001b[0m         layout\u001b[39m=\u001b[39;49mlayout,\n\u001b[1;32m    526\u001b[0m         return_type\u001b[39m=\u001b[39;49mreturn_type,\n\u001b[1;32m    527\u001b[0m         \u001b[39m*\u001b[39;49m\u001b[39m*\u001b[39;49mkwargs,\n\u001b[1;32m    528\u001b[0m     )\n",
      "File \u001b[0;32m~/opt/miniconda3/envs/DataScience/lib/python3.9/site-packages/pandas/plotting/_matplotlib/boxplot.py:458\u001b[0m, in \u001b[0;36mboxplot_frame\u001b[0;34m(self, column, by, ax, fontsize, rot, grid, figsize, layout, return_type, **kwds)\u001b[0m\n\u001b[1;32m    443\u001b[0m \u001b[39mdef\u001b[39;00m \u001b[39mboxplot_frame\u001b[39m(\n\u001b[1;32m    444\u001b[0m     \u001b[39mself\u001b[39m,\n\u001b[1;32m    445\u001b[0m     column\u001b[39m=\u001b[39m\u001b[39mNone\u001b[39;00m,\n\u001b[0;32m   (...)\u001b[0m\n\u001b[1;32m    454\u001b[0m     \u001b[39m*\u001b[39m\u001b[39m*\u001b[39mkwds,\n\u001b[1;32m    455\u001b[0m ):\n\u001b[1;32m    456\u001b[0m     \u001b[39mimport\u001b[39;00m \u001b[39mmatplotlib\u001b[39;00m\u001b[39m.\u001b[39;00m\u001b[39mpyplot\u001b[39;00m \u001b[39mas\u001b[39;00m \u001b[39mplt\u001b[39;00m\n\u001b[0;32m--> 458\u001b[0m     ax \u001b[39m=\u001b[39m boxplot(\n\u001b[1;32m    459\u001b[0m         \u001b[39mself\u001b[39;49m,\n\u001b[1;32m    460\u001b[0m         column\u001b[39m=\u001b[39;49mcolumn,\n\u001b[1;32m    461\u001b[0m         by\u001b[39m=\u001b[39;49mby,\n\u001b[1;32m    462\u001b[0m         ax\u001b[39m=\u001b[39;49max,\n\u001b[1;32m    463\u001b[0m         fontsize\u001b[39m=\u001b[39;49mfontsize,\n\u001b[1;32m    464\u001b[0m         grid\u001b[39m=\u001b[39;49mgrid,\n\u001b[1;32m    465\u001b[0m         rot\u001b[39m=\u001b[39;49mrot,\n\u001b[1;32m    466\u001b[0m         figsize\u001b[39m=\u001b[39;49mfigsize,\n\u001b[1;32m    467\u001b[0m         layout\u001b[39m=\u001b[39;49mlayout,\n\u001b[1;32m    468\u001b[0m         return_type\u001b[39m=\u001b[39;49mreturn_type,\n\u001b[1;32m    469\u001b[0m         \u001b[39m*\u001b[39;49m\u001b[39m*\u001b[39;49mkwds,\n\u001b[1;32m    470\u001b[0m     )\n\u001b[1;32m    471\u001b[0m     plt\u001b[39m.\u001b[39mdraw_if_interactive()\n\u001b[1;32m    472\u001b[0m     \u001b[39mreturn\u001b[39;00m ax\n",
      "File \u001b[0;32m~/opt/miniconda3/envs/DataScience/lib/python3.9/site-packages/pandas/plotting/_matplotlib/boxplot.py:437\u001b[0m, in \u001b[0;36mboxplot\u001b[0;34m(data, column, by, ax, fontsize, rot, grid, figsize, layout, return_type, **kwds)\u001b[0m\n\u001b[1;32m    434\u001b[0m     \u001b[39melse\u001b[39;00m:\n\u001b[1;32m    435\u001b[0m         data \u001b[39m=\u001b[39m data[columns]\n\u001b[0;32m--> 437\u001b[0m     result \u001b[39m=\u001b[39m plot_group(columns, data\u001b[39m.\u001b[39;49mvalues\u001b[39m.\u001b[39;49mT, ax, \u001b[39m*\u001b[39;49m\u001b[39m*\u001b[39;49mkwds)\n\u001b[1;32m    438\u001b[0m     ax\u001b[39m.\u001b[39mgrid(grid)\n\u001b[1;32m    440\u001b[0m \u001b[39mreturn\u001b[39;00m result\n",
      "File \u001b[0;32m~/opt/miniconda3/envs/DataScience/lib/python3.9/site-packages/pandas/plotting/_matplotlib/boxplot.py:376\u001b[0m, in \u001b[0;36mboxplot.<locals>.plot_group\u001b[0;34m(keys, values, ax, **kwds)\u001b[0m\n\u001b[1;32m    374\u001b[0m \u001b[39mif\u001b[39;00m \u001b[39mlen\u001b[39m(ticks) \u001b[39m!=\u001b[39m \u001b[39mlen\u001b[39m(keys):\n\u001b[1;32m    375\u001b[0m     i, remainder \u001b[39m=\u001b[39m \u001b[39mdivmod\u001b[39m(\u001b[39mlen\u001b[39m(ticks), \u001b[39mlen\u001b[39m(keys))\n\u001b[0;32m--> 376\u001b[0m     \u001b[39massert\u001b[39;00m remainder \u001b[39m==\u001b[39m \u001b[39m0\u001b[39m, remainder\n\u001b[1;32m    377\u001b[0m     keys \u001b[39m*\u001b[39m\u001b[39m=\u001b[39m i\n\u001b[1;32m    378\u001b[0m \u001b[39mif\u001b[39;00m is_vertical:\n",
      "\u001b[0;31mAssertionError\u001b[0m: 1"
     ]
    }
   ],
   "source": [
    "data.boxplot()"
   ]
  },
  {
   "cell_type": "code",
   "execution_count": 15,
   "metadata": {},
   "outputs": [
    {
     "data": {
      "text/plain": [
       "<AxesSubplot: ylabel='WindSpeed'>"
      ]
     },
     "execution_count": 15,
     "metadata": {},
     "output_type": "execute_result"
    }
   ],
   "source": [
    "sns.boxplot(y=data['WindSpeed'])"
   ]
  },
  {
   "cell_type": "code",
   "execution_count": 16,
   "metadata": {},
   "outputs": [
    {
     "data": {
      "text/plain": [
       "<AxesSubplot: ylabel='WindDirection'>"
      ]
     },
     "execution_count": 16,
     "metadata": {},
     "output_type": "execute_result"
    }
   ],
   "source": [
    "sns.boxplot(y=data['WindDirection'])"
   ]
  },
  {
   "cell_type": "code",
   "execution_count": 53,
   "metadata": {},
   "outputs": [
    {
     "data": {
      "text/plain": [
       "<AxesSubplot:ylabel='Power'>"
      ]
     },
     "execution_count": 53,
     "metadata": {},
     "output_type": "execute_result"
    },
    {
     "data": {
      "image/png": "[encoded data removed]",
      "text/plain": [
       "<Figure size 640x480 with 1 Axes>"
      ]
     },
     "metadata": {},
     "output_type": "display_data"
    }
   ],
   "source": [
    "sns.boxplot(y=data['Power'])"
   ]
  },
  {
   "cell_type": "code",
   "execution_count": 49,
   "metadata": {},
   "outputs": [
    {
     "data": {
      "image/png": "[encoded data removed]",
      "text/plain": [
       "<Figure size 700x400 with 1 Axes>"
      ]
     },
     "metadata": {},
     "output_type": "display_data"
    }
   ],
   "source": [
    "# Gráficos\n",
    "# ==============================================================================\n",
    "import matplotlib.pyplot as plt\n",
    "from matplotlib import style\n",
    "import seaborn as sns\n",
    "\n",
    "# Preprocesado y análisis\n",
    "# ==============================================================================\n",
    "import statsmodels.api as sm\n",
    "from scipy import stats\n",
    "# Histograma + curva normal teórica\n",
    "# ==============================================================================\n",
    "\n",
    "# Valores de la media (mu) y desviación típica (sigma) de los datos\n",
    "mu, sigma = stats.norm.fit(data['Power'])\n",
    "\n",
    "# Valores teóricos de la normal en el rango observado\n",
    "x_hat = np.linspace(min(data['Power']), max(data['Power']), num=100)\n",
    "y_hat = stats.norm.pdf(x_hat, mu, sigma)\n",
    "\n",
    "# Gráfico\n",
    "fig, ax = plt.subplots(figsize=(7,4))\n",
    "ax.plot(x_hat, y_hat, linewidth=2, label='normal')\n",
    "ax.hist(x=data['Power'], density=True, bins=30, color=\"#3182bd\", alpha=0.5)\n",
    "ax.plot(data['Power'], np.full_like(data['Power'], -0.01), '|k', markeredgewidth=1)\n",
    "ax.set_ylabel('Densidad de probabilidad')\n",
    "ax.legend();"
   ]
  },
  {
   "cell_type": "code",
   "execution_count": 54,
   "metadata": {},
   "outputs": [
    {
     "data": {
      "image/png": "[encoded data removed]",
      "text/plain": [
       "<Figure size 700x400 with 1 Axes>"
      ]
     },
     "metadata": {},
     "output_type": "display_data"
    }
   ],
   "source": [
    "# Valores de la media (mu) y desviación típica (sigma) de los datos\n",
    "mu, sigma = stats.norm.fit(data['WindDirection'])\n",
    "\n",
    "# Valores teóricos de la normal en el rango observado\n",
    "x_hat = np.linspace(min(data['WindDirection']), max(data['WindDirection']), num=100)\n",
    "y_hat = stats.norm.pdf(x_hat, mu, sigma)\n",
    "\n",
    "# Gráfico\n",
    "fig, ax = plt.subplots(figsize=(7,4))\n",
    "ax.plot(x_hat, y_hat, linewidth=2, label='normal')\n",
    "ax.hist(x=data['WindDirection'], density=True, bins=30, color=\"#3182bd\", alpha=0.5)\n",
    "ax.plot(data['WindDirection'], np.full_like(data['WindDirection'], -0.01), '|k', markeredgewidth=1)\n",
    "ax.set_ylabel('Densidad de probabilidad')\n",
    "ax.legend();"
   ]
  },
  {
   "cell_type": "code",
   "execution_count": 55,
   "metadata": {},
   "outputs": [
    {
     "data": {
      "image/png": "[encoded data removed]",
      "text/plain": [
       "<Figure size 700x400 with 1 Axes>"
      ]
     },
     "metadata": {},
     "output_type": "display_data"
    }
   ],
   "source": [
    "# Valores de la media (mu) y desviación típica (sigma) de los datos\n",
    "mu, sigma = stats.norm.fit(data['WindSpeed'])\n",
    "\n",
    "# Valores teóricos de la normal en el rango observado\n",
    "x_hat = np.linspace(min(data['WindSpeed']), max(data['WindSpeed']), num=100)\n",
    "y_hat = stats.norm.pdf(x_hat, mu, sigma)\n",
    "\n",
    "# Gráfico\n",
    "fig, ax = plt.subplots(figsize=(7,4))\n",
    "ax.plot(x_hat, y_hat, linewidth=2, label='normal')\n",
    "ax.hist(x=data['WindSpeed'], density=True, bins=30, color=\"#3182bd\", alpha=0.5)\n",
    "ax.plot(data['WindSpeed'], np.full_like(data['WindSpeed'], -0.01), '|k', markeredgewidth=1)\n",
    "ax.set_ylabel('Densidad de probabilidad')\n",
    "ax.legend();"
   ]
  },
  {
   "attachments": {},
   "cell_type": "markdown",
   "metadata": {},
   "source": [
    "se hace una transformacion de raiz cuadrada"
   ]
  },
  {
   "cell_type": "code",
   "execution_count": 70,
   "metadata": {},
   "outputs": [
    {
     "data": {
      "image/png": "[encoded data removed]",
      "text/plain": [
       "<Figure size 700x400 with 1 Axes>"
      ]
     },
     "metadata": {},
     "output_type": "display_data"
    }
   ],
   "source": [
    "# Valores de la media (mu) y desviación típica (sigma) de los datos\n",
    "mu, sigma = stats.norm.fit(np.sqrt(data['WindSpeed']))\n",
    "\n",
    "# Valores teóricos de la normal en el rango observado\n",
    "x_hat = np.linspace(min(np.sqrt(data['WindSpeed'])), max(np.sqrt(data['WindSpeed'])), num=100)\n",
    "y_hat = stats.norm.pdf(x_hat, mu, sigma)\n",
    "\n",
    "# Gráfico\n",
    "fig, ax = plt.subplots(figsize=(7,4))\n",
    "ax.plot(x_hat, y_hat, linewidth=2, label='normal')\n",
    "ax.hist(x=np.sqrt(data['WindSpeed']), density=True, bins=30, color=\"#3182bd\", alpha=0.5)\n",
    "ax.plot(np.sqrt(data['WindSpeed']), np.full_like(np.sqrt(data['WindSpeed']), -0.01), '|k', markeredgewidth=1)\n",
    "ax.set_ylabel('Densidad de probabilidad')\n",
    "ax.legend();"
   ]
  }
 ],
 "metadata": {
  "kernelspec": {
   "display_name": "Python 3.9.15 ('DataScience')",
   "language": "python",
   "name": "python3"
  },
  "language_info": {
   "codemirror_mode": {
    "name": "ipython",
    "version": 3
   },
   "file_extension": ".py",
   "mimetype": "text/x-python",
   "name": "python",
   "nbconvert_exporter": "python",
   "pygments_lexer": "ipython3",
   "version": "3.9.15"
  },
  "orig_nbformat": 4,
  "vscode": {
   "interpreter": {
    "hash": "4b5a2aaf94a20ece0551648939ed853b4738d2f77c0cac11f174cba8f59e450c"
   }
  }
 },
 "nbformat": 4,
 "nbformat_minor": 2
}
