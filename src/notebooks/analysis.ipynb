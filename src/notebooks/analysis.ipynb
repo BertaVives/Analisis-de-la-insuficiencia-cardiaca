{
 "cells": [
  {
   "cell_type": "code",
   "execution_count": 1,
   "metadata": {},
   "outputs": [],
   "source": [
    "import numpy as np"
   ]
  },
  {
   "cell_type": "code",
   "execution_count": 5,
   "metadata": {},
   "outputs": [],
   "source": [
    "lista = [0,1,2,3,4,5,6,7,8,9,10]"
   ]
  },
  {
   "cell_type": "markdown",
   "metadata": {},
   "source": [
    "## Descripción estadística de los datos"
   ]
  },
  {
   "cell_type": "code",
   "execution_count": 9,
   "metadata": {},
   "outputs": [],
   "source": [
    "# MEDIDAS DE TENDENCIA CENTRAL\n",
    "def med_tend_central(valores):\n",
    "    media = np.mean(valores)\n",
    "    mediana = np.median(valores)\n",
    "    print(f'MEDIDAS DE TENCENCIA CENTRAL:\\nMedia = {media}\\nMediana = {mediana}')"
   ]
  },
  {
   "cell_type": "code",
   "execution_count": 10,
   "metadata": {},
   "outputs": [
    {
     "name": "stdout",
     "output_type": "stream",
     "text": [
      "MEDIDAS DE TENCENCIA CENTRAL:\n",
      "Media = 5.0\n",
      "Mediana = 5.0\n"
     ]
    }
   ],
   "source": [
    "med_tend_central(lista)"
   ]
  },
  {
   "cell_type": "code",
   "execution_count": 12,
   "metadata": {},
   "outputs": [],
   "source": [
    "# MEDIDAS DE VARIABILIDAD\n",
    "def med_var(valores):\n",
    "    desvest = np.std(valores) \n",
    "    percentil25 = np.percentile(valores, 25)\n",
    "    percentil75 = np.percentile(valores, 75)\n",
    "    print(f'MEDIDAS DE VARIABILIDAD:\\nDesviación estándar = {desvest}\\nRango intercuatílico = {percentil75-percentil25}')"
   ]
  },
  {
   "cell_type": "code",
   "execution_count": 17,
   "metadata": {},
   "outputs": [
    {
     "name": "stdout",
     "output_type": "stream",
     "text": [
      "MEDIDAS DE VARIABILIDAD:\n",
      "Desviación estándar = 3.1622776601683795\n",
      "Rango intercuatílico = 5.0\n"
     ]
    }
   ],
   "source": [
    "med_var(lista)"
   ]
  }
 ],
 "metadata": {
  "kernelspec": {
   "display_name": "Python 3.9.15 ('DataScience')",
   "language": "python",
   "name": "python3"
  },
  "language_info": {
   "codemirror_mode": {
    "name": "ipython",
    "version": 3
   },
   "file_extension": ".py",
   "mimetype": "text/x-python",
   "name": "python",
   "nbconvert_exporter": "python",
   "pygments_lexer": "ipython3",
   "version": "3.9.15"
  },
  "orig_nbformat": 4,
  "vscode": {
   "interpreter": {
    "hash": "4b5a2aaf94a20ece0551648939ed853b4738d2f77c0cac11f174cba8f59e450c"
   }
  }
 },
 "nbformat": 4,
 "nbformat_minor": 2
}
