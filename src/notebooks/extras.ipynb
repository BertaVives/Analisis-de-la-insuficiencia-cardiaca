{
 "cells": [
  {
   "attachments": {},
   "cell_type": "markdown",
   "metadata": {},
   "source": [
    "- platelets: Separamos la columna en tres; los datos que son menores a 150.000, los que estan dento del rango de valores normales, y los que son superiores a 450.000."
   ]
  },
  {
   "cell_type": "code",
   "execution_count": null,
   "metadata": {},
   "outputs": [],
   "source": [
    "data['platelets'].apply(lambda x: 'hemorrhage'*(x<150000.00) else x)\n",
    "data['platelets'].apply(lambda x: 'normal' if 150000.00<x<450000.00 else x)\n",
    "data['platelets'].apply(lambda x: 'clot' if x>450000.00 else x)"
   ]
  },
  {
   "attachments": {},
   "cell_type": "markdown",
   "metadata": {},
   "source": [
    "- serum_creatinine: Si el nivel de creatinina sérica supera los 4 mg/dL indica un fallo renal. Como los valores superiores a 4 están fuera de la normalidad pero aun así son correctos y posibles, crearemos una nueva columna que indique que paciente padece un fallo renal."
   ]
  },
  {
   "cell_type": "code",
   "execution_count": null,
   "metadata": {},
   "outputs": [],
   "source": [
    "data['KidneyFailure'] = data['serum_creatinine'].apply(lambda x: True if x>4 else False)"
   ]
  }
 ],
 "metadata": {
  "kernelspec": {
   "display_name": "Python 3",
   "language": "python",
   "name": "python3"
  },
  "language_info": {
   "name": "python",
   "version": "3.8.2 (default, Apr  8 2021, 23:19:18) \n[Clang 12.0.5 (clang-1205.0.22.9)]"
  },
  "orig_nbformat": 4,
  "vscode": {
   "interpreter": {
    "hash": "31f2aee4e71d21fbe5cf8b01ff0e069b9275f58929596ceb00d14d90e3e16cd6"
   }
  }
 },
 "nbformat": 4,
 "nbformat_minor": 2
}
